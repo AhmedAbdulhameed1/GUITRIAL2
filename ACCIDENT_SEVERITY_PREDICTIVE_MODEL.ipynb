{
  "nbformat": 4,
  "nbformat_minor": 0,
  "metadata": {
    "colab": {
      "provenance": [],
      "collapsed_sections": [
        "7-X5uQfVa5Bn",
        "OOJ25pDR4WqY",
        "6HLdJkIG4erX",
        "F7qXlq-Q4gq4",
        "gsXpzvOt5iTh",
        "l05aixVO5kUk",
        "dpLxoMzf50dN",
        "6DxtTgIj55JR",
        "BvJXdihU6F5L"
      ],
      "include_colab_link": true
    },
    "kernelspec": {
      "name": "python3",
      "display_name": "Python 3"
    },
    "language_info": {
      "name": "python"
    }
  },
  "cells": [
    {
      "cell_type": "markdown",
      "metadata": {
        "id": "view-in-github",
        "colab_type": "text"
      },
      "source": [
        "<a href=\"https://colab.research.google.com/github/ahmedyasser7/DEPI_GP/blob/main/ACCIDENT_SEVERITY_PREDICTIVE_MODEL.ipynb\" target=\"_parent\"><img src=\"https://colab.research.google.com/assets/colab-badge.svg\" alt=\"Open In Colab\"/></a>"
      ]
    },
    {
      "cell_type": "markdown",
      "source": [
        "# **ACCIDENT SEVERITY PREDICTIVE MODEL**"
      ],
      "metadata": {
        "id": "iPmobjux4VQA"
      }
    },
    {
      "cell_type": "markdown",
      "source": [
        "# Uploading The Dataset\n",
        "\n"
      ],
      "metadata": {
        "id": "7-X5uQfVa5Bn"
      }
    },
    {
      "cell_type": "code",
      "source": [
        "from google.colab import files\n",
        "uploaded = files.upload()  # This will prompt you to upload the file"
      ],
      "metadata": {
        "colab": {
          "base_uri": "https://localhost:8080/",
          "height": 73
        },
        "id": "8EI8Bbl2APWe",
        "outputId": "5c856e2d-c265-44f3-ed42-b1f3c8b59145"
      },
      "execution_count": null,
      "outputs": [
        {
          "output_type": "display_data",
          "data": {
            "text/plain": [
              "<IPython.core.display.HTML object>"
            ],
            "text/html": [
              "\n",
              "     <input type=\"file\" id=\"files-02bd2d35-160c-484e-9d51-3e6fb891cd48\" name=\"files[]\" multiple disabled\n",
              "        style=\"border:none\" />\n",
              "     <output id=\"result-02bd2d35-160c-484e-9d51-3e6fb891cd48\">\n",
              "      Upload widget is only available when the cell has been executed in the\n",
              "      current browser session. Please rerun this cell to enable.\n",
              "      </output>\n",
              "      <script>// Copyright 2017 Google LLC\n",
              "//\n",
              "// Licensed under the Apache License, Version 2.0 (the \"License\");\n",
              "// you may not use this file except in compliance with the License.\n",
              "// You may obtain a copy of the License at\n",
              "//\n",
              "//      http://www.apache.org/licenses/LICENSE-2.0\n",
              "//\n",
              "// Unless required by applicable law or agreed to in writing, software\n",
              "// distributed under the License is distributed on an \"AS IS\" BASIS,\n",
              "// WITHOUT WARRANTIES OR CONDITIONS OF ANY KIND, either express or implied.\n",
              "// See the License for the specific language governing permissions and\n",
              "// limitations under the License.\n",
              "\n",
              "/**\n",
              " * @fileoverview Helpers for google.colab Python module.\n",
              " */\n",
              "(function(scope) {\n",
              "function span(text, styleAttributes = {}) {\n",
              "  const element = document.createElement('span');\n",
              "  element.textContent = text;\n",
              "  for (const key of Object.keys(styleAttributes)) {\n",
              "    element.style[key] = styleAttributes[key];\n",
              "  }\n",
              "  return element;\n",
              "}\n",
              "\n",
              "// Max number of bytes which will be uploaded at a time.\n",
              "const MAX_PAYLOAD_SIZE = 100 * 1024;\n",
              "\n",
              "function _uploadFiles(inputId, outputId) {\n",
              "  const steps = uploadFilesStep(inputId, outputId);\n",
              "  const outputElement = document.getElementById(outputId);\n",
              "  // Cache steps on the outputElement to make it available for the next call\n",
              "  // to uploadFilesContinue from Python.\n",
              "  outputElement.steps = steps;\n",
              "\n",
              "  return _uploadFilesContinue(outputId);\n",
              "}\n",
              "\n",
              "// This is roughly an async generator (not supported in the browser yet),\n",
              "// where there are multiple asynchronous steps and the Python side is going\n",
              "// to poll for completion of each step.\n",
              "// This uses a Promise to block the python side on completion of each step,\n",
              "// then passes the result of the previous step as the input to the next step.\n",
              "function _uploadFilesContinue(outputId) {\n",
              "  const outputElement = document.getElementById(outputId);\n",
              "  const steps = outputElement.steps;\n",
              "\n",
              "  const next = steps.next(outputElement.lastPromiseValue);\n",
              "  return Promise.resolve(next.value.promise).then((value) => {\n",
              "    // Cache the last promise value to make it available to the next\n",
              "    // step of the generator.\n",
              "    outputElement.lastPromiseValue = value;\n",
              "    return next.value.response;\n",
              "  });\n",
              "}\n",
              "\n",
              "/**\n",
              " * Generator function which is called between each async step of the upload\n",
              " * process.\n",
              " * @param {string} inputId Element ID of the input file picker element.\n",
              " * @param {string} outputId Element ID of the output display.\n",
              " * @return {!Iterable<!Object>} Iterable of next steps.\n",
              " */\n",
              "function* uploadFilesStep(inputId, outputId) {\n",
              "  const inputElement = document.getElementById(inputId);\n",
              "  inputElement.disabled = false;\n",
              "\n",
              "  const outputElement = document.getElementById(outputId);\n",
              "  outputElement.innerHTML = '';\n",
              "\n",
              "  const pickedPromise = new Promise((resolve) => {\n",
              "    inputElement.addEventListener('change', (e) => {\n",
              "      resolve(e.target.files);\n",
              "    });\n",
              "  });\n",
              "\n",
              "  const cancel = document.createElement('button');\n",
              "  inputElement.parentElement.appendChild(cancel);\n",
              "  cancel.textContent = 'Cancel upload';\n",
              "  const cancelPromise = new Promise((resolve) => {\n",
              "    cancel.onclick = () => {\n",
              "      resolve(null);\n",
              "    };\n",
              "  });\n",
              "\n",
              "  // Wait for the user to pick the files.\n",
              "  const files = yield {\n",
              "    promise: Promise.race([pickedPromise, cancelPromise]),\n",
              "    response: {\n",
              "      action: 'starting',\n",
              "    }\n",
              "  };\n",
              "\n",
              "  cancel.remove();\n",
              "\n",
              "  // Disable the input element since further picks are not allowed.\n",
              "  inputElement.disabled = true;\n",
              "\n",
              "  if (!files) {\n",
              "    return {\n",
              "      response: {\n",
              "        action: 'complete',\n",
              "      }\n",
              "    };\n",
              "  }\n",
              "\n",
              "  for (const file of files) {\n",
              "    const li = document.createElement('li');\n",
              "    li.append(span(file.name, {fontWeight: 'bold'}));\n",
              "    li.append(span(\n",
              "        `(${file.type || 'n/a'}) - ${file.size} bytes, ` +\n",
              "        `last modified: ${\n",
              "            file.lastModifiedDate ? file.lastModifiedDate.toLocaleDateString() :\n",
              "                                    'n/a'} - `));\n",
              "    const percent = span('0% done');\n",
              "    li.appendChild(percent);\n",
              "\n",
              "    outputElement.appendChild(li);\n",
              "\n",
              "    const fileDataPromise = new Promise((resolve) => {\n",
              "      const reader = new FileReader();\n",
              "      reader.onload = (e) => {\n",
              "        resolve(e.target.result);\n",
              "      };\n",
              "      reader.readAsArrayBuffer(file);\n",
              "    });\n",
              "    // Wait for the data to be ready.\n",
              "    let fileData = yield {\n",
              "      promise: fileDataPromise,\n",
              "      response: {\n",
              "        action: 'continue',\n",
              "      }\n",
              "    };\n",
              "\n",
              "    // Use a chunked sending to avoid message size limits. See b/62115660.\n",
              "    let position = 0;\n",
              "    do {\n",
              "      const length = Math.min(fileData.byteLength - position, MAX_PAYLOAD_SIZE);\n",
              "      const chunk = new Uint8Array(fileData, position, length);\n",
              "      position += length;\n",
              "\n",
              "      const base64 = btoa(String.fromCharCode.apply(null, chunk));\n",
              "      yield {\n",
              "        response: {\n",
              "          action: 'append',\n",
              "          file: file.name,\n",
              "          data: base64,\n",
              "        },\n",
              "      };\n",
              "\n",
              "      let percentDone = fileData.byteLength === 0 ?\n",
              "          100 :\n",
              "          Math.round((position / fileData.byteLength) * 100);\n",
              "      percent.textContent = `${percentDone}% done`;\n",
              "\n",
              "    } while (position < fileData.byteLength);\n",
              "  }\n",
              "\n",
              "  // All done.\n",
              "  yield {\n",
              "    response: {\n",
              "      action: 'complete',\n",
              "    }\n",
              "  };\n",
              "}\n",
              "\n",
              "scope.google = scope.google || {};\n",
              "scope.google.colab = scope.google.colab || {};\n",
              "scope.google.colab._files = {\n",
              "  _uploadFiles,\n",
              "  _uploadFilesContinue,\n",
              "};\n",
              "})(self);\n",
              "</script> "
            ]
          },
          "metadata": {}
        },
        {
          "output_type": "stream",
          "name": "stdout",
          "text": [
            "Saving accident cleaned data.csv to accident cleaned data (1).csv\n"
          ]
        }
      ]
    },
    {
      "cell_type": "markdown",
      "source": [
        "# Importing Libraries"
      ],
      "metadata": {
        "id": "OOJ25pDR4WqY"
      }
    },
    {
      "cell_type": "code",
      "execution_count": null,
      "metadata": {
        "id": "zbBUBBdc-D2g"
      },
      "outputs": [],
      "source": [
        "# Importing the necessary Libraries\n",
        "import pandas as pd\n",
        "from imblearn.over_sampling import SMOTE\n",
        "from sklearn.utils import resample\n",
        "from sklearn.preprocessing import StandardScaler\n",
        "from sklearn.model_selection import train_test_split\n",
        "from sklearn.tree import DecisionTreeClassifier\n",
        "from sklearn.model_selection import RandomizedSearchCV\n",
        "from sklearn.metrics import accuracy_score,classification_report, confusion_matrix\n",
        "import seaborn as sns\n",
        "import matplotlib.pyplot as plt\n"
      ]
    },
    {
      "cell_type": "markdown",
      "source": [
        "#Loading the Data"
      ],
      "metadata": {
        "id": "6HLdJkIG4erX"
      }
    },
    {
      "cell_type": "code",
      "source": [
        "# Load the 'accident cleaned data.csv' dataset\n",
        "df =  pd.read_csv('/content/accident cleaned data.csv')\n",
        "\n",
        "# Check the first few rows\n",
        "df.head()"
      ],
      "metadata": {
        "id": "A4kMuqoKWSAq",
        "colab": {
          "base_uri": "https://localhost:8080/",
          "height": 313
        },
        "outputId": "b6ca3cee-8740-408b-c3ff-9ca38032d9be"
      },
      "execution_count": null,
      "outputs": [
        {
          "output_type": "execute_result",
          "data": {
            "text/plain": [
              "  Accident_Index  Longitude   Latitude  Accident_Severity  Number_of_Vehicles  \\\n",
              "0  200901BS70001  -0.201349  51.512273                  2                   2   \n",
              "1  200901BS70002  -0.199248  51.514399                  2                   2   \n",
              "2  200901BS70003  -0.179599  51.486668                  3                   2   \n",
              "3  200901BS70004  -0.203110  51.507804                  2                   2   \n",
              "4  200901BS70005  -0.173445  51.482076                  2                   2   \n",
              "\n",
              "   Number_of_Casualties        Date  Day_of_Week      Time  \\\n",
              "0                     1  2009-01-01            5  15:11:00   \n",
              "1                    11  2009-01-05            2  10:59:00   \n",
              "2                     1  2009-01-04            1  14:19:00   \n",
              "3                     1  2009-01-05            2  08:10:00   \n",
              "4                     1  2009-01-06            3  17:25:00   \n",
              "\n",
              "   Local_Authority_(District) Local_Authority_(Highway)  Speed_limit  \\\n",
              "0                          12                 E09000020           30   \n",
              "1                          12                 E09000020           30   \n",
              "2                          12                 E09000020           30   \n",
              "3                          12                 E09000020           30   \n",
              "4                          12                 E09000020           30   \n",
              "\n",
              "   Light_Conditions  Weather_Conditions  Road_Surface_Conditions  \\\n",
              "0                 1                   1                        1   \n",
              "1                 1                   1                        2   \n",
              "2                 1                   1                        1   \n",
              "3                 1                   8                        4   \n",
              "4                 4                   1                        1   \n",
              "\n",
              "   Special_Conditions_at_Site  Urban_or_Rural_Area  \n",
              "0                           0                    1  \n",
              "1                           0                    1  \n",
              "2                           0                    1  \n",
              "3                           0                    1  \n",
              "4                           0                    1  "
            ],
            "text/html": [
              "\n",
              "  <div id=\"df-01bb5fe6-d174-4f9c-9730-2309661a9519\" class=\"colab-df-container\">\n",
              "    <div>\n",
              "<style scoped>\n",
              "    .dataframe tbody tr th:only-of-type {\n",
              "        vertical-align: middle;\n",
              "    }\n",
              "\n",
              "    .dataframe tbody tr th {\n",
              "        vertical-align: top;\n",
              "    }\n",
              "\n",
              "    .dataframe thead th {\n",
              "        text-align: right;\n",
              "    }\n",
              "</style>\n",
              "<table border=\"1\" class=\"dataframe\">\n",
              "  <thead>\n",
              "    <tr style=\"text-align: right;\">\n",
              "      <th></th>\n",
              "      <th>Accident_Index</th>\n",
              "      <th>Longitude</th>\n",
              "      <th>Latitude</th>\n",
              "      <th>Accident_Severity</th>\n",
              "      <th>Number_of_Vehicles</th>\n",
              "      <th>Number_of_Casualties</th>\n",
              "      <th>Date</th>\n",
              "      <th>Day_of_Week</th>\n",
              "      <th>Time</th>\n",
              "      <th>Local_Authority_(District)</th>\n",
              "      <th>Local_Authority_(Highway)</th>\n",
              "      <th>Speed_limit</th>\n",
              "      <th>Light_Conditions</th>\n",
              "      <th>Weather_Conditions</th>\n",
              "      <th>Road_Surface_Conditions</th>\n",
              "      <th>Special_Conditions_at_Site</th>\n",
              "      <th>Urban_or_Rural_Area</th>\n",
              "    </tr>\n",
              "  </thead>\n",
              "  <tbody>\n",
              "    <tr>\n",
              "      <th>0</th>\n",
              "      <td>200901BS70001</td>\n",
              "      <td>-0.201349</td>\n",
              "      <td>51.512273</td>\n",
              "      <td>2</td>\n",
              "      <td>2</td>\n",
              "      <td>1</td>\n",
              "      <td>2009-01-01</td>\n",
              "      <td>5</td>\n",
              "      <td>15:11:00</td>\n",
              "      <td>12</td>\n",
              "      <td>E09000020</td>\n",
              "      <td>30</td>\n",
              "      <td>1</td>\n",
              "      <td>1</td>\n",
              "      <td>1</td>\n",
              "      <td>0</td>\n",
              "      <td>1</td>\n",
              "    </tr>\n",
              "    <tr>\n",
              "      <th>1</th>\n",
              "      <td>200901BS70002</td>\n",
              "      <td>-0.199248</td>\n",
              "      <td>51.514399</td>\n",
              "      <td>2</td>\n",
              "      <td>2</td>\n",
              "      <td>11</td>\n",
              "      <td>2009-01-05</td>\n",
              "      <td>2</td>\n",
              "      <td>10:59:00</td>\n",
              "      <td>12</td>\n",
              "      <td>E09000020</td>\n",
              "      <td>30</td>\n",
              "      <td>1</td>\n",
              "      <td>1</td>\n",
              "      <td>2</td>\n",
              "      <td>0</td>\n",
              "      <td>1</td>\n",
              "    </tr>\n",
              "    <tr>\n",
              "      <th>2</th>\n",
              "      <td>200901BS70003</td>\n",
              "      <td>-0.179599</td>\n",
              "      <td>51.486668</td>\n",
              "      <td>3</td>\n",
              "      <td>2</td>\n",
              "      <td>1</td>\n",
              "      <td>2009-01-04</td>\n",
              "      <td>1</td>\n",
              "      <td>14:19:00</td>\n",
              "      <td>12</td>\n",
              "      <td>E09000020</td>\n",
              "      <td>30</td>\n",
              "      <td>1</td>\n",
              "      <td>1</td>\n",
              "      <td>1</td>\n",
              "      <td>0</td>\n",
              "      <td>1</td>\n",
              "    </tr>\n",
              "    <tr>\n",
              "      <th>3</th>\n",
              "      <td>200901BS70004</td>\n",
              "      <td>-0.203110</td>\n",
              "      <td>51.507804</td>\n",
              "      <td>2</td>\n",
              "      <td>2</td>\n",
              "      <td>1</td>\n",
              "      <td>2009-01-05</td>\n",
              "      <td>2</td>\n",
              "      <td>08:10:00</td>\n",
              "      <td>12</td>\n",
              "      <td>E09000020</td>\n",
              "      <td>30</td>\n",
              "      <td>1</td>\n",
              "      <td>8</td>\n",
              "      <td>4</td>\n",
              "      <td>0</td>\n",
              "      <td>1</td>\n",
              "    </tr>\n",
              "    <tr>\n",
              "      <th>4</th>\n",
              "      <td>200901BS70005</td>\n",
              "      <td>-0.173445</td>\n",
              "      <td>51.482076</td>\n",
              "      <td>2</td>\n",
              "      <td>2</td>\n",
              "      <td>1</td>\n",
              "      <td>2009-01-06</td>\n",
              "      <td>3</td>\n",
              "      <td>17:25:00</td>\n",
              "      <td>12</td>\n",
              "      <td>E09000020</td>\n",
              "      <td>30</td>\n",
              "      <td>4</td>\n",
              "      <td>1</td>\n",
              "      <td>1</td>\n",
              "      <td>0</td>\n",
              "      <td>1</td>\n",
              "    </tr>\n",
              "  </tbody>\n",
              "</table>\n",
              "</div>\n",
              "    <div class=\"colab-df-buttons\">\n",
              "\n",
              "  <div class=\"colab-df-container\">\n",
              "    <button class=\"colab-df-convert\" onclick=\"convertToInteractive('df-01bb5fe6-d174-4f9c-9730-2309661a9519')\"\n",
              "            title=\"Convert this dataframe to an interactive table.\"\n",
              "            style=\"display:none;\">\n",
              "\n",
              "  <svg xmlns=\"http://www.w3.org/2000/svg\" height=\"24px\" viewBox=\"0 -960 960 960\">\n",
              "    <path d=\"M120-120v-720h720v720H120Zm60-500h600v-160H180v160Zm220 220h160v-160H400v160Zm0 220h160v-160H400v160ZM180-400h160v-160H180v160Zm440 0h160v-160H620v160ZM180-180h160v-160H180v160Zm440 0h160v-160H620v160Z\"/>\n",
              "  </svg>\n",
              "    </button>\n",
              "\n",
              "  <style>\n",
              "    .colab-df-container {\n",
              "      display:flex;\n",
              "      gap: 12px;\n",
              "    }\n",
              "\n",
              "    .colab-df-convert {\n",
              "      background-color: #E8F0FE;\n",
              "      border: none;\n",
              "      border-radius: 50%;\n",
              "      cursor: pointer;\n",
              "      display: none;\n",
              "      fill: #1967D2;\n",
              "      height: 32px;\n",
              "      padding: 0 0 0 0;\n",
              "      width: 32px;\n",
              "    }\n",
              "\n",
              "    .colab-df-convert:hover {\n",
              "      background-color: #E2EBFA;\n",
              "      box-shadow: 0px 1px 2px rgba(60, 64, 67, 0.3), 0px 1px 3px 1px rgba(60, 64, 67, 0.15);\n",
              "      fill: #174EA6;\n",
              "    }\n",
              "\n",
              "    .colab-df-buttons div {\n",
              "      margin-bottom: 4px;\n",
              "    }\n",
              "\n",
              "    [theme=dark] .colab-df-convert {\n",
              "      background-color: #3B4455;\n",
              "      fill: #D2E3FC;\n",
              "    }\n",
              "\n",
              "    [theme=dark] .colab-df-convert:hover {\n",
              "      background-color: #434B5C;\n",
              "      box-shadow: 0px 1px 3px 1px rgba(0, 0, 0, 0.15);\n",
              "      filter: drop-shadow(0px 1px 2px rgba(0, 0, 0, 0.3));\n",
              "      fill: #FFFFFF;\n",
              "    }\n",
              "  </style>\n",
              "\n",
              "    <script>\n",
              "      const buttonEl =\n",
              "        document.querySelector('#df-01bb5fe6-d174-4f9c-9730-2309661a9519 button.colab-df-convert');\n",
              "      buttonEl.style.display =\n",
              "        google.colab.kernel.accessAllowed ? 'block' : 'none';\n",
              "\n",
              "      async function convertToInteractive(key) {\n",
              "        const element = document.querySelector('#df-01bb5fe6-d174-4f9c-9730-2309661a9519');\n",
              "        const dataTable =\n",
              "          await google.colab.kernel.invokeFunction('convertToInteractive',\n",
              "                                                    [key], {});\n",
              "        if (!dataTable) return;\n",
              "\n",
              "        const docLinkHtml = 'Like what you see? Visit the ' +\n",
              "          '<a target=\"_blank\" href=https://colab.research.google.com/notebooks/data_table.ipynb>data table notebook</a>'\n",
              "          + ' to learn more about interactive tables.';\n",
              "        element.innerHTML = '';\n",
              "        dataTable['output_type'] = 'display_data';\n",
              "        await google.colab.output.renderOutput(dataTable, element);\n",
              "        const docLink = document.createElement('div');\n",
              "        docLink.innerHTML = docLinkHtml;\n",
              "        element.appendChild(docLink);\n",
              "      }\n",
              "    </script>\n",
              "  </div>\n",
              "\n",
              "\n",
              "<div id=\"df-54ff7259-37b7-43ae-8a75-e3c4f72a9a1f\">\n",
              "  <button class=\"colab-df-quickchart\" onclick=\"quickchart('df-54ff7259-37b7-43ae-8a75-e3c4f72a9a1f')\"\n",
              "            title=\"Suggest charts\"\n",
              "            style=\"display:none;\">\n",
              "\n",
              "<svg xmlns=\"http://www.w3.org/2000/svg\" height=\"24px\"viewBox=\"0 0 24 24\"\n",
              "     width=\"24px\">\n",
              "    <g>\n",
              "        <path d=\"M19 3H5c-1.1 0-2 .9-2 2v14c0 1.1.9 2 2 2h14c1.1 0 2-.9 2-2V5c0-1.1-.9-2-2-2zM9 17H7v-7h2v7zm4 0h-2V7h2v10zm4 0h-2v-4h2v4z\"/>\n",
              "    </g>\n",
              "</svg>\n",
              "  </button>\n",
              "\n",
              "<style>\n",
              "  .colab-df-quickchart {\n",
              "      --bg-color: #E8F0FE;\n",
              "      --fill-color: #1967D2;\n",
              "      --hover-bg-color: #E2EBFA;\n",
              "      --hover-fill-color: #174EA6;\n",
              "      --disabled-fill-color: #AAA;\n",
              "      --disabled-bg-color: #DDD;\n",
              "  }\n",
              "\n",
              "  [theme=dark] .colab-df-quickchart {\n",
              "      --bg-color: #3B4455;\n",
              "      --fill-color: #D2E3FC;\n",
              "      --hover-bg-color: #434B5C;\n",
              "      --hover-fill-color: #FFFFFF;\n",
              "      --disabled-bg-color: #3B4455;\n",
              "      --disabled-fill-color: #666;\n",
              "  }\n",
              "\n",
              "  .colab-df-quickchart {\n",
              "    background-color: var(--bg-color);\n",
              "    border: none;\n",
              "    border-radius: 50%;\n",
              "    cursor: pointer;\n",
              "    display: none;\n",
              "    fill: var(--fill-color);\n",
              "    height: 32px;\n",
              "    padding: 0;\n",
              "    width: 32px;\n",
              "  }\n",
              "\n",
              "  .colab-df-quickchart:hover {\n",
              "    background-color: var(--hover-bg-color);\n",
              "    box-shadow: 0 1px 2px rgba(60, 64, 67, 0.3), 0 1px 3px 1px rgba(60, 64, 67, 0.15);\n",
              "    fill: var(--button-hover-fill-color);\n",
              "  }\n",
              "\n",
              "  .colab-df-quickchart-complete:disabled,\n",
              "  .colab-df-quickchart-complete:disabled:hover {\n",
              "    background-color: var(--disabled-bg-color);\n",
              "    fill: var(--disabled-fill-color);\n",
              "    box-shadow: none;\n",
              "  }\n",
              "\n",
              "  .colab-df-spinner {\n",
              "    border: 2px solid var(--fill-color);\n",
              "    border-color: transparent;\n",
              "    border-bottom-color: var(--fill-color);\n",
              "    animation:\n",
              "      spin 1s steps(1) infinite;\n",
              "  }\n",
              "\n",
              "  @keyframes spin {\n",
              "    0% {\n",
              "      border-color: transparent;\n",
              "      border-bottom-color: var(--fill-color);\n",
              "      border-left-color: var(--fill-color);\n",
              "    }\n",
              "    20% {\n",
              "      border-color: transparent;\n",
              "      border-left-color: var(--fill-color);\n",
              "      border-top-color: var(--fill-color);\n",
              "    }\n",
              "    30% {\n",
              "      border-color: transparent;\n",
              "      border-left-color: var(--fill-color);\n",
              "      border-top-color: var(--fill-color);\n",
              "      border-right-color: var(--fill-color);\n",
              "    }\n",
              "    40% {\n",
              "      border-color: transparent;\n",
              "      border-right-color: var(--fill-color);\n",
              "      border-top-color: var(--fill-color);\n",
              "    }\n",
              "    60% {\n",
              "      border-color: transparent;\n",
              "      border-right-color: var(--fill-color);\n",
              "    }\n",
              "    80% {\n",
              "      border-color: transparent;\n",
              "      border-right-color: var(--fill-color);\n",
              "      border-bottom-color: var(--fill-color);\n",
              "    }\n",
              "    90% {\n",
              "      border-color: transparent;\n",
              "      border-bottom-color: var(--fill-color);\n",
              "    }\n",
              "  }\n",
              "</style>\n",
              "\n",
              "  <script>\n",
              "    async function quickchart(key) {\n",
              "      const quickchartButtonEl =\n",
              "        document.querySelector('#' + key + ' button');\n",
              "      quickchartButtonEl.disabled = true;  // To prevent multiple clicks.\n",
              "      quickchartButtonEl.classList.add('colab-df-spinner');\n",
              "      try {\n",
              "        const charts = await google.colab.kernel.invokeFunction(\n",
              "            'suggestCharts', [key], {});\n",
              "      } catch (error) {\n",
              "        console.error('Error during call to suggestCharts:', error);\n",
              "      }\n",
              "      quickchartButtonEl.classList.remove('colab-df-spinner');\n",
              "      quickchartButtonEl.classList.add('colab-df-quickchart-complete');\n",
              "    }\n",
              "    (() => {\n",
              "      let quickchartButtonEl =\n",
              "        document.querySelector('#df-54ff7259-37b7-43ae-8a75-e3c4f72a9a1f button');\n",
              "      quickchartButtonEl.style.display =\n",
              "        google.colab.kernel.accessAllowed ? 'block' : 'none';\n",
              "    })();\n",
              "  </script>\n",
              "</div>\n",
              "\n",
              "    </div>\n",
              "  </div>\n"
            ],
            "application/vnd.google.colaboratory.intrinsic+json": {
              "type": "dataframe",
              "variable_name": "df"
            }
          },
          "metadata": {},
          "execution_count": 20
        }
      ]
    },
    {
      "cell_type": "markdown",
      "source": [
        "#Exploring & Preprocessing the Data"
      ],
      "metadata": {
        "id": "F7qXlq-Q4gq4"
      }
    },
    {
      "cell_type": "code",
      "source": [
        "# Check for missing values\n",
        "df.isnull().sum()"
      ],
      "metadata": {
        "colab": {
          "base_uri": "https://localhost:8080/",
          "height": 617
        },
        "id": "ArrWstERlix3",
        "outputId": "8a61c0cf-1182-4bf6-a815-e7073c73f2e4"
      },
      "execution_count": null,
      "outputs": [
        {
          "output_type": "execute_result",
          "data": {
            "text/plain": [
              "Accident_Index                0\n",
              "Longitude                     0\n",
              "Latitude                      0\n",
              "Accident_Severity             0\n",
              "Number_of_Vehicles            0\n",
              "Number_of_Casualties          0\n",
              "Date                          0\n",
              "Day_of_Week                   0\n",
              "Time                          0\n",
              "Local_Authority_(District)    0\n",
              "Local_Authority_(Highway)     0\n",
              "Speed_limit                   0\n",
              "Light_Conditions              0\n",
              "Weather_Conditions            0\n",
              "Road_Surface_Conditions       0\n",
              "Special_Conditions_at_Site    0\n",
              "Urban_or_Rural_Area           0\n",
              "dtype: int64"
            ],
            "text/html": [
              "<div>\n",
              "<style scoped>\n",
              "    .dataframe tbody tr th:only-of-type {\n",
              "        vertical-align: middle;\n",
              "    }\n",
              "\n",
              "    .dataframe tbody tr th {\n",
              "        vertical-align: top;\n",
              "    }\n",
              "\n",
              "    .dataframe thead th {\n",
              "        text-align: right;\n",
              "    }\n",
              "</style>\n",
              "<table border=\"1\" class=\"dataframe\">\n",
              "  <thead>\n",
              "    <tr style=\"text-align: right;\">\n",
              "      <th></th>\n",
              "      <th>0</th>\n",
              "    </tr>\n",
              "  </thead>\n",
              "  <tbody>\n",
              "    <tr>\n",
              "      <th>Accident_Index</th>\n",
              "      <td>0</td>\n",
              "    </tr>\n",
              "    <tr>\n",
              "      <th>Longitude</th>\n",
              "      <td>0</td>\n",
              "    </tr>\n",
              "    <tr>\n",
              "      <th>Latitude</th>\n",
              "      <td>0</td>\n",
              "    </tr>\n",
              "    <tr>\n",
              "      <th>Accident_Severity</th>\n",
              "      <td>0</td>\n",
              "    </tr>\n",
              "    <tr>\n",
              "      <th>Number_of_Vehicles</th>\n",
              "      <td>0</td>\n",
              "    </tr>\n",
              "    <tr>\n",
              "      <th>Number_of_Casualties</th>\n",
              "      <td>0</td>\n",
              "    </tr>\n",
              "    <tr>\n",
              "      <th>Date</th>\n",
              "      <td>0</td>\n",
              "    </tr>\n",
              "    <tr>\n",
              "      <th>Day_of_Week</th>\n",
              "      <td>0</td>\n",
              "    </tr>\n",
              "    <tr>\n",
              "      <th>Time</th>\n",
              "      <td>0</td>\n",
              "    </tr>\n",
              "    <tr>\n",
              "      <th>Local_Authority_(District)</th>\n",
              "      <td>0</td>\n",
              "    </tr>\n",
              "    <tr>\n",
              "      <th>Local_Authority_(Highway)</th>\n",
              "      <td>0</td>\n",
              "    </tr>\n",
              "    <tr>\n",
              "      <th>Speed_limit</th>\n",
              "      <td>0</td>\n",
              "    </tr>\n",
              "    <tr>\n",
              "      <th>Light_Conditions</th>\n",
              "      <td>0</td>\n",
              "    </tr>\n",
              "    <tr>\n",
              "      <th>Weather_Conditions</th>\n",
              "      <td>0</td>\n",
              "    </tr>\n",
              "    <tr>\n",
              "      <th>Road_Surface_Conditions</th>\n",
              "      <td>0</td>\n",
              "    </tr>\n",
              "    <tr>\n",
              "      <th>Special_Conditions_at_Site</th>\n",
              "      <td>0</td>\n",
              "    </tr>\n",
              "    <tr>\n",
              "      <th>Urban_or_Rural_Area</th>\n",
              "      <td>0</td>\n",
              "    </tr>\n",
              "  </tbody>\n",
              "</table>\n",
              "</div><br><label><b>dtype:</b> int64</label>"
            ]
          },
          "metadata": {},
          "execution_count": 21
        }
      ]
    },
    {
      "cell_type": "code",
      "source": [
        "# Check for duplicate values\n",
        "df.duplicated().sum()"
      ],
      "metadata": {
        "colab": {
          "base_uri": "https://localhost:8080/"
        },
        "id": "NMmAVFkfGx09",
        "outputId": "48b28c73-c515-482c-8e2f-e8b06f20a22c"
      },
      "execution_count": null,
      "outputs": [
        {
          "output_type": "execute_result",
          "data": {
            "text/plain": [
              "0"
            ]
          },
          "metadata": {},
          "execution_count": 22
        }
      ]
    },
    {
      "cell_type": "code",
      "source": [
        "print(df.shape)"
      ],
      "metadata": {
        "colab": {
          "base_uri": "https://localhost:8080/"
        },
        "id": "0aPtxb11li0P",
        "outputId": "953a4079-6c33-45ec-a0cd-bca09544aca7"
      },
      "execution_count": null,
      "outputs": [
        {
          "output_type": "stream",
          "name": "stdout",
          "text": [
            "(898555, 17)\n"
          ]
        }
      ]
    },
    {
      "cell_type": "code",
      "source": [
        "# Get information about the dataset\n",
        "print(df.info())"
      ],
      "metadata": {
        "colab": {
          "base_uri": "https://localhost:8080/"
        },
        "id": "vCgsEBWyli2Y",
        "outputId": "5cff2547-8a48-4c39-e3fe-4c1ef35df2a5"
      },
      "execution_count": null,
      "outputs": [
        {
          "output_type": "stream",
          "name": "stdout",
          "text": [
            "<class 'pandas.core.frame.DataFrame'>\n",
            "RangeIndex: 898555 entries, 0 to 898554\n",
            "Data columns (total 17 columns):\n",
            " #   Column                      Non-Null Count   Dtype  \n",
            "---  ------                      --------------   -----  \n",
            " 0   Accident_Index              898555 non-null  object \n",
            " 1   Longitude                   898555 non-null  float64\n",
            " 2   Latitude                    898555 non-null  float64\n",
            " 3   Accident_Severity           898555 non-null  int64  \n",
            " 4   Number_of_Vehicles          898555 non-null  int64  \n",
            " 5   Number_of_Casualties        898555 non-null  int64  \n",
            " 6   Date                        898555 non-null  object \n",
            " 7   Day_of_Week                 898555 non-null  int64  \n",
            " 8   Time                        898555 non-null  object \n",
            " 9   Local_Authority_(District)  898555 non-null  int64  \n",
            " 10  Local_Authority_(Highway)   898555 non-null  object \n",
            " 11  Speed_limit                 898555 non-null  int64  \n",
            " 12  Light_Conditions            898555 non-null  int64  \n",
            " 13  Weather_Conditions          898555 non-null  int64  \n",
            " 14  Road_Surface_Conditions     898555 non-null  int64  \n",
            " 15  Special_Conditions_at_Site  898555 non-null  int64  \n",
            " 16  Urban_or_Rural_Area         898555 non-null  int64  \n",
            "dtypes: float64(2), int64(11), object(4)\n",
            "memory usage: 116.5+ MB\n",
            "None\n"
          ]
        }
      ]
    },
    {
      "cell_type": "markdown",
      "source": [
        "we will:\n",
        "- drop (Accident_Index, Date, Time) as they don't contribute to predicting \"Accident Severity\".\n",
        "- Keep all the other columns.\n",
        "- Encode categorical columns like Local_Authority_(Highway) using One-Hot Encoding.\n"
      ],
      "metadata": {
        "id": "J-R8ZFXO4rFq"
      }
    },
    {
      "cell_type": "markdown",
      "source": [
        "## Drop Irrelevant Columns"
      ],
      "metadata": {
        "id": "h184YpQB4v5_"
      }
    },
    {
      "cell_type": "code",
      "source": [
        "# Drop irrelevant columns\n",
        "df = df.drop(['Accident_Index', 'Date', 'Time'], axis=1)"
      ],
      "metadata": {
        "id": "A5VCcHf_li4B"
      },
      "execution_count": null,
      "outputs": []
    },
    {
      "cell_type": "markdown",
      "source": [
        "## Handle Categorical Variables"
      ],
      "metadata": {
        "id": "azp-BVwv4xPj"
      }
    },
    {
      "cell_type": "code",
      "source": [
        "# Identify object (categorical) columns\n",
        "categorical_cols = df.select_dtypes(include=['object']).columns\n",
        "print(categorical_cols)"
      ],
      "metadata": {
        "colab": {
          "base_uri": "https://localhost:8080/"
        },
        "id": "PovPU6T-li8b",
        "outputId": "33c8ede7-6e20-42f9-8264-636ab2b4598a"
      },
      "execution_count": null,
      "outputs": [
        {
          "output_type": "stream",
          "name": "stdout",
          "text": [
            "Index(['Local_Authority_(Highway)'], dtype='object')\n"
          ]
        }
      ]
    },
    {
      "cell_type": "code",
      "source": [
        "# Apply one-hot encoding to categorical columns\n",
        "df = pd.get_dummies(df, columns=['Local_Authority_(Highway)'], drop_first=True)"
      ],
      "metadata": {
        "id": "hhPN0YGPli_x"
      },
      "execution_count": null,
      "outputs": []
    },
    {
      "cell_type": "markdown",
      "source": [
        "## Check for Numeric Features"
      ],
      "metadata": {
        "id": "oVKCFn6A44gR"
      }
    },
    {
      "cell_type": "code",
      "source": [
        "# Check if all features are numeric\n",
        "print(df.dtypes)"
      ],
      "metadata": {
        "colab": {
          "base_uri": "https://localhost:8080/"
        },
        "id": "0yYSssWvmCs7",
        "outputId": "12a2e1d4-bda9-4bc3-9d30-9bc73fd4f933"
      },
      "execution_count": null,
      "outputs": [
        {
          "output_type": "stream",
          "name": "stdout",
          "text": [
            "Longitude                              float64\n",
            "Latitude                               float64\n",
            "Accident_Severity                        int64\n",
            "Number_of_Vehicles                       int64\n",
            "Number_of_Casualties                     int64\n",
            "                                        ...   \n",
            "Local_Authority_(Highway)_W06000020       bool\n",
            "Local_Authority_(Highway)_W06000021       bool\n",
            "Local_Authority_(Highway)_W06000022       bool\n",
            "Local_Authority_(Highway)_W06000023       bool\n",
            "Local_Authority_(Highway)_W06000024       bool\n",
            "Length: 219, dtype: object\n"
          ]
        }
      ]
    },
    {
      "cell_type": "code",
      "source": [
        "# Convert boolean columns to integers (0 and 1)\n",
        "df = df.astype(int)"
      ],
      "metadata": {
        "id": "p1KFH4C2mEiz"
      },
      "execution_count": null,
      "outputs": []
    },
    {
      "cell_type": "code",
      "source": [
        "# Check the data types after conversion\n",
        "print(df.dtypes)"
      ],
      "metadata": {
        "colab": {
          "base_uri": "https://localhost:8080/"
        },
        "id": "DvQOLEnMmG1E",
        "outputId": "fe6c0838-6bc6-425c-f75e-36e21d8d1a90"
      },
      "execution_count": null,
      "outputs": [
        {
          "output_type": "stream",
          "name": "stdout",
          "text": [
            "Longitude                              int64\n",
            "Latitude                               int64\n",
            "Accident_Severity                      int64\n",
            "Number_of_Vehicles                     int64\n",
            "Number_of_Casualties                   int64\n",
            "                                       ...  \n",
            "Local_Authority_(Highway)_W06000020    int64\n",
            "Local_Authority_(Highway)_W06000021    int64\n",
            "Local_Authority_(Highway)_W06000022    int64\n",
            "Local_Authority_(Highway)_W06000023    int64\n",
            "Local_Authority_(Highway)_W06000024    int64\n",
            "Length: 219, dtype: object\n"
          ]
        }
      ]
    },
    {
      "cell_type": "markdown",
      "source": [
        "## Handling Class Imbalance\n"
      ],
      "metadata": {
        "id": "5fqLY3xR5JyG"
      }
    },
    {
      "cell_type": "code",
      "source": [
        "accident_severity_counts = df['Accident_Severity'].value_counts()\n",
        "accident_severity_counts"
      ],
      "metadata": {
        "colab": {
          "base_uri": "https://localhost:8080/",
          "height": 209
        },
        "id": "26mKNPRhmJd7",
        "outputId": "83aa9ebd-542b-4930-ce6b-11e461658b02"
      },
      "execution_count": null,
      "outputs": [
        {
          "output_type": "execute_result",
          "data": {
            "text/plain": [
              "Accident_Severity\n",
              "3    763607\n",
              "2    124471\n",
              "1     10477\n",
              "Name: count, dtype: int64"
            ],
            "text/html": [
              "<div>\n",
              "<style scoped>\n",
              "    .dataframe tbody tr th:only-of-type {\n",
              "        vertical-align: middle;\n",
              "    }\n",
              "\n",
              "    .dataframe tbody tr th {\n",
              "        vertical-align: top;\n",
              "    }\n",
              "\n",
              "    .dataframe thead th {\n",
              "        text-align: right;\n",
              "    }\n",
              "</style>\n",
              "<table border=\"1\" class=\"dataframe\">\n",
              "  <thead>\n",
              "    <tr style=\"text-align: right;\">\n",
              "      <th></th>\n",
              "      <th>count</th>\n",
              "    </tr>\n",
              "    <tr>\n",
              "      <th>Accident_Severity</th>\n",
              "      <th></th>\n",
              "    </tr>\n",
              "  </thead>\n",
              "  <tbody>\n",
              "    <tr>\n",
              "      <th>3</th>\n",
              "      <td>763607</td>\n",
              "    </tr>\n",
              "    <tr>\n",
              "      <th>2</th>\n",
              "      <td>124471</td>\n",
              "    </tr>\n",
              "    <tr>\n",
              "      <th>1</th>\n",
              "      <td>10477</td>\n",
              "    </tr>\n",
              "  </tbody>\n",
              "</table>\n",
              "</div><br><label><b>dtype:</b> int64</label>"
            ]
          },
          "metadata": {},
          "execution_count": 31
        }
      ]
    },
    {
      "cell_type": "code",
      "source": [
        "# Combine the majority and minority classes\n",
        "df_majority = df[df['Accident_Severity'] == 3]  # '3' is the majority class\n",
        "df_minority_1 = df[df['Accident_Severity'] == 1]  # '1' is a minority class\n",
        "df_minority_2 = df[df['Accident_Severity'] == 2]  # '2' is a minority class\n",
        "\n",
        "# Under-sample majority class\n",
        "df_majority_undersampled = df_majority.sample(len(df_minority_1) + len(df_minority_2), random_state=42)\n",
        "\n",
        "# Combine back to one DataFrame\n",
        "df_balanced = pd.concat([df_majority_undersampled, df_minority_1, df_minority_2])"
      ],
      "metadata": {
        "id": "68rhqwMPmMmO"
      },
      "execution_count": null,
      "outputs": []
    },
    {
      "cell_type": "markdown",
      "source": [
        "## Feature Scaling"
      ],
      "metadata": {
        "id": "UqagsBFD5XGT"
      }
    },
    {
      "cell_type": "code",
      "source": [
        "# Features to scale (excluding the target variable 'Accident_Severity')\n",
        "features_to_scale = df_balanced.drop('Accident_Severity', axis=1)\n",
        "\n",
        "# Initialize the StandardScaler\n",
        "scaler = StandardScaler()\n",
        "\n",
        "# Fit the scaler on the features and transform them\n",
        "scaled_features = scaler.fit_transform(features_to_scale)\n",
        "\n",
        "# Create a DataFrame with scaled features\n",
        "df_scaled = pd.DataFrame(scaled_features, columns=features_to_scale.columns)\n",
        "\n",
        "# Add the target variable back to the scaled DataFrame\n",
        "df_scaled['Accident_Severity'] = df_balanced['Accident_Severity'].values\n",
        "\n",
        "# Display the first few rows of the scaled DataFrame\n",
        "df_scaled.head()"
      ],
      "metadata": {
        "colab": {
          "base_uri": "https://localhost:8080/",
          "height": 255
        },
        "id": "EsxPjsqTmO85",
        "outputId": "165655a3-54fe-4c3f-f26c-e46ab455e175"
      },
      "execution_count": null,
      "outputs": [
        {
          "output_type": "execute_result",
          "data": {
            "text/plain": [
              "   Longitude  Latitude  Number_of_Vehicles  Number_of_Casualties  Day_of_Week  \\\n",
              "0  -0.719804  0.630885            0.307198              0.615919     0.454743   \n",
              "1   0.082198 -0.042553           -1.027202             -0.394377     1.481070   \n",
              "2   0.082198 -1.389428            0.307198             -0.394377    -0.571584   \n",
              "3   0.082198  1.304322            0.307198             -0.394377    -0.571584   \n",
              "4  -0.719804  0.630885            0.307198             -0.394377    -1.597911   \n",
              "\n",
              "   Local_Authority_(District)  Speed_limit  Light_Conditions  \\\n",
              "0                   -0.983929    -0.666030         -0.594055   \n",
              "1                   -0.417252     1.431791         -0.594055   \n",
              "2                    1.068362    -0.666030         -0.594055   \n",
              "3                   -0.819287     0.732518          1.171073   \n",
              "4                   -0.995416    -1.365303          1.171073   \n",
              "\n",
              "   Weather_Conditions  Road_Surface_Conditions  ...  \\\n",
              "0           -0.335417                -0.568783  ...   \n",
              "1           -0.335417                -0.568783  ...   \n",
              "2           -0.335417                -0.568783  ...   \n",
              "3           -0.335417                -0.568783  ...   \n",
              "4           -0.335417                 1.000438  ...   \n",
              "\n",
              "   Local_Authority_(Highway)_W06000015  Local_Authority_(Highway)_W06000016  \\\n",
              "0                            -0.062435                            -0.052185   \n",
              "1                            -0.062435                            -0.052185   \n",
              "2                            -0.062435                            -0.052185   \n",
              "3                            -0.062435                            -0.052185   \n",
              "4                            -0.062435                            -0.052185   \n",
              "\n",
              "   Local_Authority_(Highway)_W06000018  Local_Authority_(Highway)_W06000019  \\\n",
              "0                            -0.038429                            -0.026751   \n",
              "1                            -0.038429                            -0.026751   \n",
              "2                            -0.038429                            -0.026751   \n",
              "3                            -0.038429                            -0.026751   \n",
              "4                            -0.038429                            -0.026751   \n",
              "\n",
              "   Local_Authority_(Highway)_W06000020  Local_Authority_(Highway)_W06000021  \\\n",
              "0                            -0.026751                            -0.033965   \n",
              "1                            -0.026751                            -0.033965   \n",
              "2                            -0.026751                            -0.033965   \n",
              "3                            -0.026751                            -0.033965   \n",
              "4                            -0.026751                            -0.033965   \n",
              "\n",
              "   Local_Authority_(Highway)_W06000022  Local_Authority_(Highway)_W06000023  \\\n",
              "0                            -0.042033                             -0.05984   \n",
              "1                            -0.042033                             -0.05984   \n",
              "2                            -0.042033                             -0.05984   \n",
              "3                            -0.042033                             -0.05984   \n",
              "4                            -0.042033                             -0.05984   \n",
              "\n",
              "   Local_Authority_(Highway)_W06000024  Accident_Severity  \n",
              "0                             -0.02619                  3  \n",
              "1                             -0.02619                  3  \n",
              "2                             -0.02619                  3  \n",
              "3                             -0.02619                  3  \n",
              "4                             -0.02619                  3  \n",
              "\n",
              "[5 rows x 219 columns]"
            ],
            "text/html": [
              "\n",
              "  <div id=\"df-27e20c44-8d70-4326-9164-d46809f604c7\" class=\"colab-df-container\">\n",
              "    <div>\n",
              "<style scoped>\n",
              "    .dataframe tbody tr th:only-of-type {\n",
              "        vertical-align: middle;\n",
              "    }\n",
              "\n",
              "    .dataframe tbody tr th {\n",
              "        vertical-align: top;\n",
              "    }\n",
              "\n",
              "    .dataframe thead th {\n",
              "        text-align: right;\n",
              "    }\n",
              "</style>\n",
              "<table border=\"1\" class=\"dataframe\">\n",
              "  <thead>\n",
              "    <tr style=\"text-align: right;\">\n",
              "      <th></th>\n",
              "      <th>Longitude</th>\n",
              "      <th>Latitude</th>\n",
              "      <th>Number_of_Vehicles</th>\n",
              "      <th>Number_of_Casualties</th>\n",
              "      <th>Day_of_Week</th>\n",
              "      <th>Local_Authority_(District)</th>\n",
              "      <th>Speed_limit</th>\n",
              "      <th>Light_Conditions</th>\n",
              "      <th>Weather_Conditions</th>\n",
              "      <th>Road_Surface_Conditions</th>\n",
              "      <th>...</th>\n",
              "      <th>Local_Authority_(Highway)_W06000015</th>\n",
              "      <th>Local_Authority_(Highway)_W06000016</th>\n",
              "      <th>Local_Authority_(Highway)_W06000018</th>\n",
              "      <th>Local_Authority_(Highway)_W06000019</th>\n",
              "      <th>Local_Authority_(Highway)_W06000020</th>\n",
              "      <th>Local_Authority_(Highway)_W06000021</th>\n",
              "      <th>Local_Authority_(Highway)_W06000022</th>\n",
              "      <th>Local_Authority_(Highway)_W06000023</th>\n",
              "      <th>Local_Authority_(Highway)_W06000024</th>\n",
              "      <th>Accident_Severity</th>\n",
              "    </tr>\n",
              "  </thead>\n",
              "  <tbody>\n",
              "    <tr>\n",
              "      <th>0</th>\n",
              "      <td>-0.719804</td>\n",
              "      <td>0.630885</td>\n",
              "      <td>0.307198</td>\n",
              "      <td>0.615919</td>\n",
              "      <td>0.454743</td>\n",
              "      <td>-0.983929</td>\n",
              "      <td>-0.666030</td>\n",
              "      <td>-0.594055</td>\n",
              "      <td>-0.335417</td>\n",
              "      <td>-0.568783</td>\n",
              "      <td>...</td>\n",
              "      <td>-0.062435</td>\n",
              "      <td>-0.052185</td>\n",
              "      <td>-0.038429</td>\n",
              "      <td>-0.026751</td>\n",
              "      <td>-0.026751</td>\n",
              "      <td>-0.033965</td>\n",
              "      <td>-0.042033</td>\n",
              "      <td>-0.05984</td>\n",
              "      <td>-0.02619</td>\n",
              "      <td>3</td>\n",
              "    </tr>\n",
              "    <tr>\n",
              "      <th>1</th>\n",
              "      <td>0.082198</td>\n",
              "      <td>-0.042553</td>\n",
              "      <td>-1.027202</td>\n",
              "      <td>-0.394377</td>\n",
              "      <td>1.481070</td>\n",
              "      <td>-0.417252</td>\n",
              "      <td>1.431791</td>\n",
              "      <td>-0.594055</td>\n",
              "      <td>-0.335417</td>\n",
              "      <td>-0.568783</td>\n",
              "      <td>...</td>\n",
              "      <td>-0.062435</td>\n",
              "      <td>-0.052185</td>\n",
              "      <td>-0.038429</td>\n",
              "      <td>-0.026751</td>\n",
              "      <td>-0.026751</td>\n",
              "      <td>-0.033965</td>\n",
              "      <td>-0.042033</td>\n",
              "      <td>-0.05984</td>\n",
              "      <td>-0.02619</td>\n",
              "      <td>3</td>\n",
              "    </tr>\n",
              "    <tr>\n",
              "      <th>2</th>\n",
              "      <td>0.082198</td>\n",
              "      <td>-1.389428</td>\n",
              "      <td>0.307198</td>\n",
              "      <td>-0.394377</td>\n",
              "      <td>-0.571584</td>\n",
              "      <td>1.068362</td>\n",
              "      <td>-0.666030</td>\n",
              "      <td>-0.594055</td>\n",
              "      <td>-0.335417</td>\n",
              "      <td>-0.568783</td>\n",
              "      <td>...</td>\n",
              "      <td>-0.062435</td>\n",
              "      <td>-0.052185</td>\n",
              "      <td>-0.038429</td>\n",
              "      <td>-0.026751</td>\n",
              "      <td>-0.026751</td>\n",
              "      <td>-0.033965</td>\n",
              "      <td>-0.042033</td>\n",
              "      <td>-0.05984</td>\n",
              "      <td>-0.02619</td>\n",
              "      <td>3</td>\n",
              "    </tr>\n",
              "    <tr>\n",
              "      <th>3</th>\n",
              "      <td>0.082198</td>\n",
              "      <td>1.304322</td>\n",
              "      <td>0.307198</td>\n",
              "      <td>-0.394377</td>\n",
              "      <td>-0.571584</td>\n",
              "      <td>-0.819287</td>\n",
              "      <td>0.732518</td>\n",
              "      <td>1.171073</td>\n",
              "      <td>-0.335417</td>\n",
              "      <td>-0.568783</td>\n",
              "      <td>...</td>\n",
              "      <td>-0.062435</td>\n",
              "      <td>-0.052185</td>\n",
              "      <td>-0.038429</td>\n",
              "      <td>-0.026751</td>\n",
              "      <td>-0.026751</td>\n",
              "      <td>-0.033965</td>\n",
              "      <td>-0.042033</td>\n",
              "      <td>-0.05984</td>\n",
              "      <td>-0.02619</td>\n",
              "      <td>3</td>\n",
              "    </tr>\n",
              "    <tr>\n",
              "      <th>4</th>\n",
              "      <td>-0.719804</td>\n",
              "      <td>0.630885</td>\n",
              "      <td>0.307198</td>\n",
              "      <td>-0.394377</td>\n",
              "      <td>-1.597911</td>\n",
              "      <td>-0.995416</td>\n",
              "      <td>-1.365303</td>\n",
              "      <td>1.171073</td>\n",
              "      <td>-0.335417</td>\n",
              "      <td>1.000438</td>\n",
              "      <td>...</td>\n",
              "      <td>-0.062435</td>\n",
              "      <td>-0.052185</td>\n",
              "      <td>-0.038429</td>\n",
              "      <td>-0.026751</td>\n",
              "      <td>-0.026751</td>\n",
              "      <td>-0.033965</td>\n",
              "      <td>-0.042033</td>\n",
              "      <td>-0.05984</td>\n",
              "      <td>-0.02619</td>\n",
              "      <td>3</td>\n",
              "    </tr>\n",
              "  </tbody>\n",
              "</table>\n",
              "<p>5 rows × 219 columns</p>\n",
              "</div>\n",
              "    <div class=\"colab-df-buttons\">\n",
              "\n",
              "  <div class=\"colab-df-container\">\n",
              "    <button class=\"colab-df-convert\" onclick=\"convertToInteractive('df-27e20c44-8d70-4326-9164-d46809f604c7')\"\n",
              "            title=\"Convert this dataframe to an interactive table.\"\n",
              "            style=\"display:none;\">\n",
              "\n",
              "  <svg xmlns=\"http://www.w3.org/2000/svg\" height=\"24px\" viewBox=\"0 -960 960 960\">\n",
              "    <path d=\"M120-120v-720h720v720H120Zm60-500h600v-160H180v160Zm220 220h160v-160H400v160Zm0 220h160v-160H400v160ZM180-400h160v-160H180v160Zm440 0h160v-160H620v160ZM180-180h160v-160H180v160Zm440 0h160v-160H620v160Z\"/>\n",
              "  </svg>\n",
              "    </button>\n",
              "\n",
              "  <style>\n",
              "    .colab-df-container {\n",
              "      display:flex;\n",
              "      gap: 12px;\n",
              "    }\n",
              "\n",
              "    .colab-df-convert {\n",
              "      background-color: #E8F0FE;\n",
              "      border: none;\n",
              "      border-radius: 50%;\n",
              "      cursor: pointer;\n",
              "      display: none;\n",
              "      fill: #1967D2;\n",
              "      height: 32px;\n",
              "      padding: 0 0 0 0;\n",
              "      width: 32px;\n",
              "    }\n",
              "\n",
              "    .colab-df-convert:hover {\n",
              "      background-color: #E2EBFA;\n",
              "      box-shadow: 0px 1px 2px rgba(60, 64, 67, 0.3), 0px 1px 3px 1px rgba(60, 64, 67, 0.15);\n",
              "      fill: #174EA6;\n",
              "    }\n",
              "\n",
              "    .colab-df-buttons div {\n",
              "      margin-bottom: 4px;\n",
              "    }\n",
              "\n",
              "    [theme=dark] .colab-df-convert {\n",
              "      background-color: #3B4455;\n",
              "      fill: #D2E3FC;\n",
              "    }\n",
              "\n",
              "    [theme=dark] .colab-df-convert:hover {\n",
              "      background-color: #434B5C;\n",
              "      box-shadow: 0px 1px 3px 1px rgba(0, 0, 0, 0.15);\n",
              "      filter: drop-shadow(0px 1px 2px rgba(0, 0, 0, 0.3));\n",
              "      fill: #FFFFFF;\n",
              "    }\n",
              "  </style>\n",
              "\n",
              "    <script>\n",
              "      const buttonEl =\n",
              "        document.querySelector('#df-27e20c44-8d70-4326-9164-d46809f604c7 button.colab-df-convert');\n",
              "      buttonEl.style.display =\n",
              "        google.colab.kernel.accessAllowed ? 'block' : 'none';\n",
              "\n",
              "      async function convertToInteractive(key) {\n",
              "        const element = document.querySelector('#df-27e20c44-8d70-4326-9164-d46809f604c7');\n",
              "        const dataTable =\n",
              "          await google.colab.kernel.invokeFunction('convertToInteractive',\n",
              "                                                    [key], {});\n",
              "        if (!dataTable) return;\n",
              "\n",
              "        const docLinkHtml = 'Like what you see? Visit the ' +\n",
              "          '<a target=\"_blank\" href=https://colab.research.google.com/notebooks/data_table.ipynb>data table notebook</a>'\n",
              "          + ' to learn more about interactive tables.';\n",
              "        element.innerHTML = '';\n",
              "        dataTable['output_type'] = 'display_data';\n",
              "        await google.colab.output.renderOutput(dataTable, element);\n",
              "        const docLink = document.createElement('div');\n",
              "        docLink.innerHTML = docLinkHtml;\n",
              "        element.appendChild(docLink);\n",
              "      }\n",
              "    </script>\n",
              "  </div>\n",
              "\n",
              "\n",
              "<div id=\"df-2c32ca79-0719-40dc-a0df-ca71a8a95ca8\">\n",
              "  <button class=\"colab-df-quickchart\" onclick=\"quickchart('df-2c32ca79-0719-40dc-a0df-ca71a8a95ca8')\"\n",
              "            title=\"Suggest charts\"\n",
              "            style=\"display:none;\">\n",
              "\n",
              "<svg xmlns=\"http://www.w3.org/2000/svg\" height=\"24px\"viewBox=\"0 0 24 24\"\n",
              "     width=\"24px\">\n",
              "    <g>\n",
              "        <path d=\"M19 3H5c-1.1 0-2 .9-2 2v14c0 1.1.9 2 2 2h14c1.1 0 2-.9 2-2V5c0-1.1-.9-2-2-2zM9 17H7v-7h2v7zm4 0h-2V7h2v10zm4 0h-2v-4h2v4z\"/>\n",
              "    </g>\n",
              "</svg>\n",
              "  </button>\n",
              "\n",
              "<style>\n",
              "  .colab-df-quickchart {\n",
              "      --bg-color: #E8F0FE;\n",
              "      --fill-color: #1967D2;\n",
              "      --hover-bg-color: #E2EBFA;\n",
              "      --hover-fill-color: #174EA6;\n",
              "      --disabled-fill-color: #AAA;\n",
              "      --disabled-bg-color: #DDD;\n",
              "  }\n",
              "\n",
              "  [theme=dark] .colab-df-quickchart {\n",
              "      --bg-color: #3B4455;\n",
              "      --fill-color: #D2E3FC;\n",
              "      --hover-bg-color: #434B5C;\n",
              "      --hover-fill-color: #FFFFFF;\n",
              "      --disabled-bg-color: #3B4455;\n",
              "      --disabled-fill-color: #666;\n",
              "  }\n",
              "\n",
              "  .colab-df-quickchart {\n",
              "    background-color: var(--bg-color);\n",
              "    border: none;\n",
              "    border-radius: 50%;\n",
              "    cursor: pointer;\n",
              "    display: none;\n",
              "    fill: var(--fill-color);\n",
              "    height: 32px;\n",
              "    padding: 0;\n",
              "    width: 32px;\n",
              "  }\n",
              "\n",
              "  .colab-df-quickchart:hover {\n",
              "    background-color: var(--hover-bg-color);\n",
              "    box-shadow: 0 1px 2px rgba(60, 64, 67, 0.3), 0 1px 3px 1px rgba(60, 64, 67, 0.15);\n",
              "    fill: var(--button-hover-fill-color);\n",
              "  }\n",
              "\n",
              "  .colab-df-quickchart-complete:disabled,\n",
              "  .colab-df-quickchart-complete:disabled:hover {\n",
              "    background-color: var(--disabled-bg-color);\n",
              "    fill: var(--disabled-fill-color);\n",
              "    box-shadow: none;\n",
              "  }\n",
              "\n",
              "  .colab-df-spinner {\n",
              "    border: 2px solid var(--fill-color);\n",
              "    border-color: transparent;\n",
              "    border-bottom-color: var(--fill-color);\n",
              "    animation:\n",
              "      spin 1s steps(1) infinite;\n",
              "  }\n",
              "\n",
              "  @keyframes spin {\n",
              "    0% {\n",
              "      border-color: transparent;\n",
              "      border-bottom-color: var(--fill-color);\n",
              "      border-left-color: var(--fill-color);\n",
              "    }\n",
              "    20% {\n",
              "      border-color: transparent;\n",
              "      border-left-color: var(--fill-color);\n",
              "      border-top-color: var(--fill-color);\n",
              "    }\n",
              "    30% {\n",
              "      border-color: transparent;\n",
              "      border-left-color: var(--fill-color);\n",
              "      border-top-color: var(--fill-color);\n",
              "      border-right-color: var(--fill-color);\n",
              "    }\n",
              "    40% {\n",
              "      border-color: transparent;\n",
              "      border-right-color: var(--fill-color);\n",
              "      border-top-color: var(--fill-color);\n",
              "    }\n",
              "    60% {\n",
              "      border-color: transparent;\n",
              "      border-right-color: var(--fill-color);\n",
              "    }\n",
              "    80% {\n",
              "      border-color: transparent;\n",
              "      border-right-color: var(--fill-color);\n",
              "      border-bottom-color: var(--fill-color);\n",
              "    }\n",
              "    90% {\n",
              "      border-color: transparent;\n",
              "      border-bottom-color: var(--fill-color);\n",
              "    }\n",
              "  }\n",
              "</style>\n",
              "\n",
              "  <script>\n",
              "    async function quickchart(key) {\n",
              "      const quickchartButtonEl =\n",
              "        document.querySelector('#' + key + ' button');\n",
              "      quickchartButtonEl.disabled = true;  // To prevent multiple clicks.\n",
              "      quickchartButtonEl.classList.add('colab-df-spinner');\n",
              "      try {\n",
              "        const charts = await google.colab.kernel.invokeFunction(\n",
              "            'suggestCharts', [key], {});\n",
              "      } catch (error) {\n",
              "        console.error('Error during call to suggestCharts:', error);\n",
              "      }\n",
              "      quickchartButtonEl.classList.remove('colab-df-spinner');\n",
              "      quickchartButtonEl.classList.add('colab-df-quickchart-complete');\n",
              "    }\n",
              "    (() => {\n",
              "      let quickchartButtonEl =\n",
              "        document.querySelector('#df-2c32ca79-0719-40dc-a0df-ca71a8a95ca8 button');\n",
              "      quickchartButtonEl.style.display =\n",
              "        google.colab.kernel.accessAllowed ? 'block' : 'none';\n",
              "    })();\n",
              "  </script>\n",
              "</div>\n",
              "\n",
              "    </div>\n",
              "  </div>\n"
            ],
            "application/vnd.google.colaboratory.intrinsic+json": {
              "type": "dataframe",
              "variable_name": "df_scaled"
            }
          },
          "metadata": {},
          "execution_count": 33
        }
      ]
    },
    {
      "cell_type": "markdown",
      "source": [
        "# Model Selection & Training"
      ],
      "metadata": {
        "id": "pej6pDpZ5dYI"
      }
    },
    {
      "cell_type": "markdown",
      "source": [
        "\n",
        "## Train-Test Split"
      ],
      "metadata": {
        "id": "gsXpzvOt5iTh"
      }
    },
    {
      "cell_type": "code",
      "source": [
        "# Define the feature set (X) and target variable (y)\n",
        "X = df_scaled.drop('Accident_Severity', axis=1)\n",
        "y = df_scaled['Accident_Severity']\n",
        "\n",
        "# Split the dataset into training and testing sets (80% train, 20% test)\n",
        "X_train, X_test, y_train, y_test = train_test_split(X, y, test_size=0.2, random_state=42, stratify=y)"
      ],
      "metadata": {
        "id": "5wFF4SW8mRmN"
      },
      "execution_count": null,
      "outputs": []
    },
    {
      "cell_type": "markdown",
      "source": [
        "## Initialize Models and Hyperparameters"
      ],
      "metadata": {
        "id": "l05aixVO5kUk"
      }
    },
    {
      "cell_type": "code",
      "source": [
        "models = {\n",
        "    'Decision Tree': (DecisionTreeClassifier(max_depth=10, min_samples_split=10), {})\n",
        "}\n"
      ],
      "metadata": {
        "id": "hSkAtplWmitZ"
      },
      "execution_count": null,
      "outputs": []
    },
    {
      "cell_type": "markdown",
      "source": [
        "## Define the Evaluation Functions"
      ],
      "metadata": {
        "id": "dpLxoMzf50dN"
      }
    },
    {
      "cell_type": "code",
      "source": [
        "# Function to calculate accuracy\n",
        "def calculate_accuracy(model, X_test, y_test):\n",
        "    y_pred = model.predict(X_test)\n",
        "    accuracy = accuracy_score(y_test, y_pred)\n",
        "    return accuracy"
      ],
      "metadata": {
        "id": "bv90FFb-mj8Z"
      },
      "execution_count": null,
      "outputs": []
    },
    {
      "cell_type": "code",
      "source": [
        "# Function to generate confusion matrix\n",
        "def generate_confusion_matrix(model, X_test, y_test):\n",
        "    y_pred = model.predict(X_test)\n",
        "    cm = confusion_matrix(y_test, y_pred)\n",
        "    return cm"
      ],
      "metadata": {
        "id": "YmZLdGU8mmn6"
      },
      "execution_count": null,
      "outputs": []
    },
    {
      "cell_type": "code",
      "source": [
        "# Function to generate classification report\n",
        "def generate_classification_report(model, X_test, y_test):\n",
        "    y_pred = model.predict(X_test)\n",
        "    report = classification_report(y_test, y_pred, output_dict=True)\n",
        "    return report"
      ],
      "metadata": {
        "id": "17OoihElmrAO"
      },
      "execution_count": null,
      "outputs": []
    },
    {
      "cell_type": "markdown",
      "source": [
        "## Perform Randomized Search CV for the Model"
      ],
      "metadata": {
        "id": "6DxtTgIj55JR"
      }
    },
    {
      "cell_type": "code",
      "source": [
        "# Adjusting the target variable to start from 0\n",
        "df['Accident_Severity'] = df['Accident_Severity'] - 1\n",
        "\n",
        "# Initialize dictionaries to store evaluation results\n",
        "evaluation_results = {}\n",
        "\n",
        "# Randomized Search for the model\n",
        "for model_name, (model, params) in models.items():\n",
        "    print(f\"Training {model_name} with Randomized Search...\")\n",
        "\n",
        "    # Initialize RandomizedSearchCV\n",
        "    randomized_search = RandomizedSearchCV(estimator=model, param_distributions=params, n_iter=20,\n",
        "                                           cv=3, scoring='accuracy', verbose=2, n_jobs=-1, random_state=42)\n",
        "\n",
        "    # Fit Randomized Search\n",
        "    randomized_search.fit(X_train, y_train)\n",
        "\n",
        "    # Best parameters and best score\n",
        "    best_params = randomized_search.best_params_\n",
        "    best_score = randomized_search.best_score_\n",
        "    print(f\"Best cross-validated accuracy for {model_name}: {best_score:.4f}\")\n",
        "\n",
        "    # Evaluate the best model\n",
        "    best_model = randomized_search.best_estimator_\n",
        "\n",
        "    # Calculate accuracy using the helper function\n",
        "    accuracy = calculate_accuracy(best_model, X_test, y_test)\n",
        "    print(f\"{model_name} Accuracy: {accuracy:.4f}\")\n",
        "\n",
        "    # Generate classification report\n",
        "    classification_report_dict = generate_classification_report(best_model, X_test, y_test)\n",
        "    print(f\"Classification Report for {model_name}:\\n\", pd.DataFrame(classification_report_dict).T)\n",
        "\n",
        "    # Calculate and print the confusion matrix using the helper function\n",
        "    cm = generate_confusion_matrix(best_model, X_test, y_test)\n",
        "    print(f\"{model_name} Confusion Matrix:\\n{cm}\")\n",
        "\n",
        "    # Plot the confusion matrix\n",
        "    plt.figure(figsize=(4, 3))\n",
        "    sns.heatmap(cm, annot=True, fmt='d', cmap='Blues',\n",
        "                xticklabels=['Slight', 'Serious', 'Fatal'],\n",
        "                yticklabels=['Slight', 'Serious', 'Fatal'])\n",
        "    plt.title(f'Confusion Matrix for {model_name}')\n",
        "    plt.xlabel('Predicted Label')\n",
        "    plt.ylabel('True Label')\n",
        "    plt.show()\n",
        "\n",
        "    # Store evaluation results in the dictionary\n",
        "    evaluation_results[model_name] = {\n",
        "        'accuracy': accuracy,\n",
        "        'best_params': best_params,\n",
        "    }\n"
      ],
      "metadata": {
        "id": "z30lBFnMtxqx",
        "colab": {
          "base_uri": "https://localhost:8080/",
          "height": 665
        },
        "outputId": "b76756a0-9ebf-4429-e14a-5f91110e36a1"
      },
      "execution_count": null,
      "outputs": [
        {
          "output_type": "stream",
          "name": "stdout",
          "text": [
            "Training Decision Tree with Randomized Search...\n",
            "Fitting 3 folds for each of 1 candidates, totalling 3 fits\n"
          ]
        },
        {
          "output_type": "stream",
          "name": "stderr",
          "text": [
            "/usr/local/lib/python3.10/dist-packages/sklearn/model_selection/_search.py:320: UserWarning: The total space of parameters 1 is smaller than n_iter=20. Running 1 iterations. For exhaustive searches, use GridSearchCV.\n",
            "  warnings.warn(\n"
          ]
        },
        {
          "output_type": "stream",
          "name": "stdout",
          "text": [
            "Best cross-validated accuracy for Decision Tree: 0.5824\n",
            "Decision Tree Accuracy: 0.5840\n",
            "Classification Report for Decision Tree:\n",
            "               precision    recall  f1-score       support\n",
            "1              0.086957  0.001909  0.003737   2095.000000\n",
            "2              0.564220  0.542599  0.553198  24895.000000\n",
            "3              0.600573  0.667395  0.632224  26990.000000\n",
            "accuracy       0.584013  0.584013  0.584013      0.584013\n",
            "macro avg      0.417250  0.403968  0.396386  53980.000000\n",
            "weighted avg   0.563874  0.584013  0.571386  53980.000000\n",
            "Decision Tree Confusion Matrix:\n",
            "[[    4  1472   619]\n",
            " [   26 13508 11361]\n",
            " [   16  8961 18013]]\n"
          ]
        },
        {
          "output_type": "display_data",
          "data": {
            "text/plain": [
              "<Figure size 400x300 with 2 Axes>"
            ],
            "image/png": "[encoded data removed]"
          },
          "metadata": {}
        }
      ]
    },
    {
      "cell_type": "markdown",
      "source": [
        "#Save the Model"
      ],
      "metadata": {
        "id": "BvJXdihU6F5L"
      }
    },
    {
      "cell_type": "code",
      "source": [
        "import pickle\n",
        "\n",
        "# Assuming 'model' is your trained classification model\n",
        "with open('classification_model.pkl', 'wb') as file:\n",
        "    pickle.dump(model, file)\n"
      ],
      "metadata": {
        "id": "S_uVcDYaGMNp"
      },
      "execution_count": null,
      "outputs": []
    }
  ]
}