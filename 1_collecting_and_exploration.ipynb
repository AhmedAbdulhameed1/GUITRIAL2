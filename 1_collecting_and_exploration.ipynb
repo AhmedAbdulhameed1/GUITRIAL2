{
 "cells": [
  {
   "cell_type": "markdown",
   "metadata": {},
   "source": [
    "# DEPI Graduation Project\n"
   ]
  },
  {
   "cell_type": "markdown",
   "metadata": {},
   "source": [
    "### Graduation Project metadata\n",
    "- link: https://docs.google.com/document/d/1yXyUT78vFCtzXKYUxHzgyga47drs0MhEOK5nA3V_3aM/edit?usp=sharing\n",
    "\n"
   ]
  },
  {
   "cell_type": "markdown",
   "metadata": {},
   "source": [
    "<div class=\"alert alert-block alert-info\">\n",
    "<b>Data Collecting & Exploration</b> Getting the data from *KAGGLE*.\n",
    "</div>"
   ]
  },
  {
   "cell_type": "markdown",
   "metadata": {},
   "source": [
    "### Importing needed libraries"
   ]
  },
  {
   "cell_type": "code",
   "execution_count": 2,
   "metadata": {},
   "outputs": [],
   "source": [
    "import pandas as pd\n",
    "import numpy as np\n",
    "import datetime\n",
    "import csv\n",
    "pd.set_option('display.max_columns', None)\n",
    "pd.set_option('display.max_colwidth', None)"
   ]
  },
  {
   "cell_type": "markdown",
   "metadata": {},
   "source": [
    "***"
   ]
  },
  {
   "cell_type": "markdown",
   "metadata": {},
   "source": [
    " <span style='font-family:sans-serif'>\n",
    "- <font color='violet'>Creating Frames </font> "
   ]
  },
  {
   "cell_type": "code",
   "execution_count": 3,
   "metadata": {},
   "outputs": [
    {
     "name": "stderr",
     "output_type": "stream",
     "text": [
      "C:\\Users\\ahmed\\AppData\\Local\\Temp\\ipykernel_20792\\1110507034.py:1: DtypeWarning: Columns (31) have mixed types. Specify dtype option on import or set low_memory=False.\n",
      "  dfaccident = pd.read_csv(\"Accidents0514.csv\")\n"
     ]
    }
   ],
   "source": [
    "dfaccident = pd.read_csv(\"Accidents0514.csv\")"
   ]
  },
  {
   "cell_type": "code",
   "execution_count": 4,
   "metadata": {},
   "outputs": [],
   "source": [
    "dfcas = pd.read_csv(\"Casualties0514.csv\")"
   ]
  },
  {
   "cell_type": "code",
   "execution_count": 5,
   "metadata": {},
   "outputs": [],
   "source": [
    "dfvehicles = pd.read_csv(\"Vehicles0514.csv\")\n"
   ]
  },
  {
   "cell_type": "markdown",
   "metadata": {},
   "source": [
    "### 1 - Accidents Exploration"
   ]
  },
  {
   "cell_type": "code",
   "execution_count": 6,
   "metadata": {},
   "outputs": [
    {
     "data": {
      "text/html": [
       "<div>\n",
       "<style scoped>\n",
       "    .dataframe tbody tr th:only-of-type {\n",
       "        vertical-align: middle;\n",
       "    }\n",
       "\n",
       "    .dataframe tbody tr th {\n",
       "        vertical-align: top;\n",
       "    }\n",
       "\n",
       "    .dataframe thead th {\n",
       "        text-align: right;\n",
       "    }\n",
       "</style>\n",
       "<table border=\"1\" class=\"dataframe\">\n",
       "  <thead>\n",
       "    <tr style=\"text-align: right;\">\n",
       "      <th></th>\n",
       "      <th>Accident_Index</th>\n",
       "      <th>Location_Easting_OSGR</th>\n",
       "      <th>Location_Northing_OSGR</th>\n",
       "      <th>Longitude</th>\n",
       "      <th>Latitude</th>\n",
       "      <th>Police_Force</th>\n",
       "      <th>Accident_Severity</th>\n",
       "      <th>Number_of_Vehicles</th>\n",
       "      <th>Number_of_Casualties</th>\n",
       "      <th>Date</th>\n",
       "      <th>Day_of_Week</th>\n",
       "      <th>Time</th>\n",
       "      <th>Local_Authority_(District)</th>\n",
       "      <th>Local_Authority_(Highway)</th>\n",
       "      <th>1st_Road_Class</th>\n",
       "      <th>1st_Road_Number</th>\n",
       "      <th>Road_Type</th>\n",
       "      <th>Speed_limit</th>\n",
       "      <th>Junction_Detail</th>\n",
       "      <th>Junction_Control</th>\n",
       "      <th>2nd_Road_Class</th>\n",
       "      <th>2nd_Road_Number</th>\n",
       "      <th>Pedestrian_Crossing-Human_Control</th>\n",
       "      <th>Pedestrian_Crossing-Physical_Facilities</th>\n",
       "      <th>Light_Conditions</th>\n",
       "      <th>Weather_Conditions</th>\n",
       "      <th>Road_Surface_Conditions</th>\n",
       "      <th>Special_Conditions_at_Site</th>\n",
       "      <th>Carriageway_Hazards</th>\n",
       "      <th>Urban_or_Rural_Area</th>\n",
       "      <th>Did_Police_Officer_Attend_Scene_of_Accident</th>\n",
       "      <th>LSOA_of_Accident_Location</th>\n",
       "    </tr>\n",
       "  </thead>\n",
       "  <tbody>\n",
       "    <tr>\n",
       "      <th>0</th>\n",
       "      <td>200501BS00001</td>\n",
       "      <td>525680.0</td>\n",
       "      <td>178240.0</td>\n",
       "      <td>-0.191170</td>\n",
       "      <td>51.489096</td>\n",
       "      <td>1</td>\n",
       "      <td>2</td>\n",
       "      <td>1</td>\n",
       "      <td>1</td>\n",
       "      <td>04/01/2005</td>\n",
       "      <td>3</td>\n",
       "      <td>17:42</td>\n",
       "      <td>12</td>\n",
       "      <td>E09000020</td>\n",
       "      <td>3</td>\n",
       "      <td>3218</td>\n",
       "      <td>6</td>\n",
       "      <td>30</td>\n",
       "      <td>0</td>\n",
       "      <td>-1</td>\n",
       "      <td>-1</td>\n",
       "      <td>0</td>\n",
       "      <td>0</td>\n",
       "      <td>1</td>\n",
       "      <td>1</td>\n",
       "      <td>2</td>\n",
       "      <td>2</td>\n",
       "      <td>0</td>\n",
       "      <td>0</td>\n",
       "      <td>1</td>\n",
       "      <td>1</td>\n",
       "      <td>E01002849</td>\n",
       "    </tr>\n",
       "    <tr>\n",
       "      <th>1</th>\n",
       "      <td>200501BS00002</td>\n",
       "      <td>524170.0</td>\n",
       "      <td>181650.0</td>\n",
       "      <td>-0.211708</td>\n",
       "      <td>51.520075</td>\n",
       "      <td>1</td>\n",
       "      <td>3</td>\n",
       "      <td>1</td>\n",
       "      <td>1</td>\n",
       "      <td>05/01/2005</td>\n",
       "      <td>4</td>\n",
       "      <td>17:36</td>\n",
       "      <td>12</td>\n",
       "      <td>E09000020</td>\n",
       "      <td>4</td>\n",
       "      <td>450</td>\n",
       "      <td>3</td>\n",
       "      <td>30</td>\n",
       "      <td>6</td>\n",
       "      <td>2</td>\n",
       "      <td>5</td>\n",
       "      <td>0</td>\n",
       "      <td>0</td>\n",
       "      <td>5</td>\n",
       "      <td>4</td>\n",
       "      <td>1</td>\n",
       "      <td>1</td>\n",
       "      <td>0</td>\n",
       "      <td>0</td>\n",
       "      <td>1</td>\n",
       "      <td>1</td>\n",
       "      <td>E01002909</td>\n",
       "    </tr>\n",
       "    <tr>\n",
       "      <th>2</th>\n",
       "      <td>200501BS00003</td>\n",
       "      <td>524520.0</td>\n",
       "      <td>182240.0</td>\n",
       "      <td>-0.206458</td>\n",
       "      <td>51.525301</td>\n",
       "      <td>1</td>\n",
       "      <td>3</td>\n",
       "      <td>2</td>\n",
       "      <td>1</td>\n",
       "      <td>06/01/2005</td>\n",
       "      <td>5</td>\n",
       "      <td>00:15</td>\n",
       "      <td>12</td>\n",
       "      <td>E09000020</td>\n",
       "      <td>5</td>\n",
       "      <td>0</td>\n",
       "      <td>6</td>\n",
       "      <td>30</td>\n",
       "      <td>0</td>\n",
       "      <td>-1</td>\n",
       "      <td>-1</td>\n",
       "      <td>0</td>\n",
       "      <td>0</td>\n",
       "      <td>0</td>\n",
       "      <td>4</td>\n",
       "      <td>1</td>\n",
       "      <td>1</td>\n",
       "      <td>0</td>\n",
       "      <td>0</td>\n",
       "      <td>1</td>\n",
       "      <td>1</td>\n",
       "      <td>E01002857</td>\n",
       "    </tr>\n",
       "    <tr>\n",
       "      <th>3</th>\n",
       "      <td>200501BS00004</td>\n",
       "      <td>526900.0</td>\n",
       "      <td>177530.0</td>\n",
       "      <td>-0.173862</td>\n",
       "      <td>51.482442</td>\n",
       "      <td>1</td>\n",
       "      <td>3</td>\n",
       "      <td>1</td>\n",
       "      <td>1</td>\n",
       "      <td>07/01/2005</td>\n",
       "      <td>6</td>\n",
       "      <td>10:35</td>\n",
       "      <td>12</td>\n",
       "      <td>E09000020</td>\n",
       "      <td>3</td>\n",
       "      <td>3220</td>\n",
       "      <td>6</td>\n",
       "      <td>30</td>\n",
       "      <td>0</td>\n",
       "      <td>-1</td>\n",
       "      <td>-1</td>\n",
       "      <td>0</td>\n",
       "      <td>0</td>\n",
       "      <td>0</td>\n",
       "      <td>1</td>\n",
       "      <td>1</td>\n",
       "      <td>1</td>\n",
       "      <td>0</td>\n",
       "      <td>0</td>\n",
       "      <td>1</td>\n",
       "      <td>1</td>\n",
       "      <td>E01002840</td>\n",
       "    </tr>\n",
       "    <tr>\n",
       "      <th>4</th>\n",
       "      <td>200501BS00005</td>\n",
       "      <td>528060.0</td>\n",
       "      <td>179040.0</td>\n",
       "      <td>-0.156618</td>\n",
       "      <td>51.495752</td>\n",
       "      <td>1</td>\n",
       "      <td>3</td>\n",
       "      <td>1</td>\n",
       "      <td>1</td>\n",
       "      <td>10/01/2005</td>\n",
       "      <td>2</td>\n",
       "      <td>21:13</td>\n",
       "      <td>12</td>\n",
       "      <td>E09000020</td>\n",
       "      <td>6</td>\n",
       "      <td>0</td>\n",
       "      <td>6</td>\n",
       "      <td>30</td>\n",
       "      <td>0</td>\n",
       "      <td>-1</td>\n",
       "      <td>-1</td>\n",
       "      <td>0</td>\n",
       "      <td>0</td>\n",
       "      <td>0</td>\n",
       "      <td>7</td>\n",
       "      <td>1</td>\n",
       "      <td>2</td>\n",
       "      <td>0</td>\n",
       "      <td>0</td>\n",
       "      <td>1</td>\n",
       "      <td>1</td>\n",
       "      <td>E01002863</td>\n",
       "    </tr>\n",
       "  </tbody>\n",
       "</table>\n",
       "</div>"
      ],
      "text/plain": [
       "  Accident_Index  Location_Easting_OSGR  Location_Northing_OSGR  Longitude  \\\n",
       "0  200501BS00001               525680.0                178240.0  -0.191170   \n",
       "1  200501BS00002               524170.0                181650.0  -0.211708   \n",
       "2  200501BS00003               524520.0                182240.0  -0.206458   \n",
       "3  200501BS00004               526900.0                177530.0  -0.173862   \n",
       "4  200501BS00005               528060.0                179040.0  -0.156618   \n",
       "\n",
       "    Latitude  Police_Force  Accident_Severity  Number_of_Vehicles  \\\n",
       "0  51.489096             1                  2                   1   \n",
       "1  51.520075             1                  3                   1   \n",
       "2  51.525301             1                  3                   2   \n",
       "3  51.482442             1                  3                   1   \n",
       "4  51.495752             1                  3                   1   \n",
       "\n",
       "   Number_of_Casualties        Date  Day_of_Week   Time  \\\n",
       "0                     1  04/01/2005            3  17:42   \n",
       "1                     1  05/01/2005            4  17:36   \n",
       "2                     1  06/01/2005            5  00:15   \n",
       "3                     1  07/01/2005            6  10:35   \n",
       "4                     1  10/01/2005            2  21:13   \n",
       "\n",
       "   Local_Authority_(District) Local_Authority_(Highway)  1st_Road_Class  \\\n",
       "0                          12                 E09000020               3   \n",
       "1                          12                 E09000020               4   \n",
       "2                          12                 E09000020               5   \n",
       "3                          12                 E09000020               3   \n",
       "4                          12                 E09000020               6   \n",
       "\n",
       "   1st_Road_Number  Road_Type  Speed_limit  Junction_Detail  Junction_Control  \\\n",
       "0             3218          6           30                0                -1   \n",
       "1              450          3           30                6                 2   \n",
       "2                0          6           30                0                -1   \n",
       "3             3220          6           30                0                -1   \n",
       "4                0          6           30                0                -1   \n",
       "\n",
       "   2nd_Road_Class  2nd_Road_Number  Pedestrian_Crossing-Human_Control  \\\n",
       "0              -1                0                                  0   \n",
       "1               5                0                                  0   \n",
       "2              -1                0                                  0   \n",
       "3              -1                0                                  0   \n",
       "4              -1                0                                  0   \n",
       "\n",
       "   Pedestrian_Crossing-Physical_Facilities  Light_Conditions  \\\n",
       "0                                        1                 1   \n",
       "1                                        5                 4   \n",
       "2                                        0                 4   \n",
       "3                                        0                 1   \n",
       "4                                        0                 7   \n",
       "\n",
       "   Weather_Conditions  Road_Surface_Conditions  Special_Conditions_at_Site  \\\n",
       "0                   2                        2                           0   \n",
       "1                   1                        1                           0   \n",
       "2                   1                        1                           0   \n",
       "3                   1                        1                           0   \n",
       "4                   1                        2                           0   \n",
       "\n",
       "   Carriageway_Hazards  Urban_or_Rural_Area  \\\n",
       "0                    0                    1   \n",
       "1                    0                    1   \n",
       "2                    0                    1   \n",
       "3                    0                    1   \n",
       "4                    0                    1   \n",
       "\n",
       "   Did_Police_Officer_Attend_Scene_of_Accident LSOA_of_Accident_Location  \n",
       "0                                            1                 E01002849  \n",
       "1                                            1                 E01002909  \n",
       "2                                            1                 E01002857  \n",
       "3                                            1                 E01002840  \n",
       "4                                            1                 E01002863  "
      ]
     },
     "execution_count": 6,
     "metadata": {},
     "output_type": "execute_result"
    }
   ],
   "source": [
    "dfaccident.head()"
   ]
  },
  {
   "cell_type": "code",
   "execution_count": 7,
   "metadata": {},
   "outputs": [],
   "source": [
    "dfaccident['Date']= pd.to_datetime(dfaccident['Date'], format=\"%d/%m/%Y\")\n"
   ]
  },
  {
   "cell_type": "code",
   "execution_count": 8,
   "metadata": {},
   "outputs": [],
   "source": [
    "dfaccident = dfaccident[(dfaccident['Date'] >= '2009-01-01') & (dfaccident['Date'] <= '2014-12-31')]"
   ]
  },
  {
   "cell_type": "code",
   "execution_count": 9,
   "metadata": {},
   "outputs": [],
   "source": [
    "dfaccident['Time'] = pd.to_datetime(dfaccident['Time'], format='%H:%M').dt.time\n"
   ]
  },
  {
   "cell_type": "code",
   "execution_count": 10,
   "metadata": {},
   "outputs": [
    {
     "data": {
      "text/plain": [
       "(899995, 32)"
      ]
     },
     "execution_count": 10,
     "metadata": {},
     "output_type": "execute_result"
    }
   ],
   "source": [
    "dfaccident.shape"
   ]
  },
  {
   "cell_type": "code",
   "execution_count": 11,
   "metadata": {},
   "outputs": [
    {
     "data": {
      "text/plain": [
       "Accident_Index                                     0\n",
       "Location_Easting_OSGR                              0\n",
       "Location_Northing_OSGR                             0\n",
       "Longitude                                          0\n",
       "Latitude                                           0\n",
       "Police_Force                                       0\n",
       "Accident_Severity                                  0\n",
       "Number_of_Vehicles                                 0\n",
       "Number_of_Casualties                               0\n",
       "Date                                               0\n",
       "Day_of_Week                                        0\n",
       "Time                                              50\n",
       "Local_Authority_(District)                         0\n",
       "Local_Authority_(Highway)                          0\n",
       "1st_Road_Class                                     0\n",
       "1st_Road_Number                                    0\n",
       "Road_Type                                          0\n",
       "Speed_limit                                        0\n",
       "Junction_Detail                                    0\n",
       "Junction_Control                                   0\n",
       "2nd_Road_Class                                     0\n",
       "2nd_Road_Number                                    0\n",
       "Pedestrian_Crossing-Human_Control                  0\n",
       "Pedestrian_Crossing-Physical_Facilities            0\n",
       "Light_Conditions                                   0\n",
       "Weather_Conditions                                 0\n",
       "Road_Surface_Conditions                            0\n",
       "Special_Conditions_at_Site                         0\n",
       "Carriageway_Hazards                                0\n",
       "Urban_or_Rural_Area                                0\n",
       "Did_Police_Officer_Attend_Scene_of_Accident        0\n",
       "LSOA_of_Accident_Location                      60727\n",
       "dtype: int64"
      ]
     },
     "execution_count": 11,
     "metadata": {},
     "output_type": "execute_result"
    }
   ],
   "source": [
    "dfaccident.isnull().sum()"
   ]
  },
  {
   "cell_type": "markdown",
   "metadata": {},
   "source": [
    "**As we will not select LSOA so we only drop time Nulls**"
   ]
  },
  {
   "cell_type": "code",
   "execution_count": 12,
   "metadata": {},
   "outputs": [],
   "source": [
    "dfaccident=dfaccident[['Accident_Index','Longitude','Latitude','Accident_Severity','Number_of_Vehicles','Number_of_Casualties','Date','Day_of_Week','Time'\n",
    "                       ,'Local_Authority_(District)','Local_Authority_(Highway)','Speed_limit','Light_Conditions','Weather_Conditions',\n",
    "                       'Road_Surface_Conditions','Special_Conditions_at_Site','Urban_or_Rural_Area']]"
   ]
  },
  {
   "cell_type": "code",
   "execution_count": 13,
   "metadata": {},
   "outputs": [
    {
     "data": {
      "text/plain": [
       "Accident_Index                0\n",
       "Longitude                     0\n",
       "Latitude                      0\n",
       "Accident_Severity             0\n",
       "Number_of_Vehicles            0\n",
       "Number_of_Casualties          0\n",
       "Date                          0\n",
       "Day_of_Week                   0\n",
       "Time                          0\n",
       "Local_Authority_(District)    0\n",
       "Local_Authority_(Highway)     0\n",
       "Speed_limit                   0\n",
       "Light_Conditions              0\n",
       "Weather_Conditions            0\n",
       "Road_Surface_Conditions       0\n",
       "Special_Conditions_at_Site    0\n",
       "Urban_or_Rural_Area           0\n",
       "dtype: int64"
      ]
     },
     "execution_count": 13,
     "metadata": {},
     "output_type": "execute_result"
    }
   ],
   "source": [
    "dfaccident=dfaccident.dropna()\n",
    "\n",
    "dfaccident.isnull().sum()"
   ]
  },
  {
   "cell_type": "code",
   "execution_count": 14,
   "metadata": {},
   "outputs": [
    {
     "name": "stdout",
     "output_type": "stream",
     "text": [
      "0\n",
      "0.0\n"
     ]
    }
   ],
   "source": [
    "value_counts = dfaccident['Accident_Index'].value_counts()\n",
    "count_minus_one = value_counts.get('-1', 0)  \n",
    "total_count = dfaccident['Accident_Index'].count()\n",
    "percentage_minus_one = (count_minus_one / total_count) * 100 if total_count > 0 else 0\n",
    "print(count_minus_one)\n",
    "print(percentage_minus_one)"
   ]
  },
  {
   "cell_type": "code",
   "execution_count": 15,
   "metadata": {},
   "outputs": [],
   "source": [
    "dfaccident = dfaccident.drop(dfaccident[dfaccident['Accident_Index'] == '-1'].index)"
   ]
  },
  {
   "cell_type": "code",
   "execution_count": 16,
   "metadata": {},
   "outputs": [
    {
     "name": "stdout",
     "output_type": "stream",
     "text": [
      "0\n",
      "0.0\n"
     ]
    }
   ],
   "source": [
    "value_counts = dfaccident['Speed_limit'].value_counts()\n",
    "count_minus_one = value_counts.get(-1, 0)  \n",
    "total_count = dfaccident['Speed_limit'].count()\n",
    "percentage_minus_one = (count_minus_one / total_count) * 100 if total_count > 0 else 0\n",
    "print(count_minus_one)\n",
    "print(percentage_minus_one)"
   ]
  },
  {
   "cell_type": "code",
   "execution_count": 17,
   "metadata": {},
   "outputs": [
    {
     "name": "stdout",
     "output_type": "stream",
     "text": [
      "0\n",
      "0.0\n"
     ]
    }
   ],
   "source": [
    "value_counts = dfaccident['Light_Conditions'].value_counts()\n",
    "count_minus_one = value_counts.get(-1, 0)  \n",
    "total_count = dfaccident['Light_Conditions'].count()\n",
    "percentage_minus_one = (count_minus_one / total_count) * 100 if total_count > 0 else 0\n",
    "print(count_minus_one)\n",
    "print(percentage_minus_one)"
   ]
  },
  {
   "cell_type": "code",
   "execution_count": 18,
   "metadata": {},
   "outputs": [
    {
     "name": "stdout",
     "output_type": "stream",
     "text": [
      "106\n",
      "0.011778497574851797\n"
     ]
    }
   ],
   "source": [
    "value_counts = dfaccident['Weather_Conditions'].value_counts()\n",
    "count_minus_one = value_counts.get(-1, 0)  \n",
    "total_count = dfaccident['Weather_Conditions'].count()\n",
    "percentage_minus_one = (count_minus_one / total_count) * 100 if total_count > 0 else 0\n",
    "print(count_minus_one)\n",
    "print(percentage_minus_one)"
   ]
  },
  {
   "cell_type": "code",
   "execution_count": 19,
   "metadata": {},
   "outputs": [],
   "source": [
    "dfaccident = dfaccident.drop(dfaccident[dfaccident['Weather_Conditions'] == -1].index)\n"
   ]
  },
  {
   "cell_type": "code",
   "execution_count": 20,
   "metadata": {},
   "outputs": [
    {
     "name": "stdout",
     "output_type": "stream",
     "text": [
      "1281\n",
      "0.1423587997408425\n"
     ]
    }
   ],
   "source": [
    "value_counts = dfaccident['Road_Surface_Conditions'].value_counts()\n",
    "count_minus_one = value_counts.get(-1, 0)  \n",
    "total_count = dfaccident['Road_Surface_Conditions'].count()\n",
    "percentage_minus_one = (count_minus_one / total_count) * 100 if total_count > 0 else 0\n",
    "print(count_minus_one)\n",
    "print(percentage_minus_one)"
   ]
  },
  {
   "cell_type": "code",
   "execution_count": 21,
   "metadata": {},
   "outputs": [],
   "source": [
    "dfaccident = dfaccident.drop(dfaccident[dfaccident['Road_Surface_Conditions'] == -1].index)\n"
   ]
  },
  {
   "cell_type": "code",
   "execution_count": 22,
   "metadata": {},
   "outputs": [
    {
     "name": "stdout",
     "output_type": "stream",
     "text": [
      "3\n",
      "0.00033386826448598755\n"
     ]
    }
   ],
   "source": [
    "value_counts = dfaccident['Special_Conditions_at_Site'].value_counts()\n",
    "count_minus_one = value_counts.get(-1, 0)  \n",
    "total_count = dfaccident['Special_Conditions_at_Site'].count()\n",
    "percentage_minus_one = (count_minus_one / total_count) * 100 if total_count > 0 else 0\n",
    "print(count_minus_one)\n",
    "print(percentage_minus_one)"
   ]
  },
  {
   "cell_type": "code",
   "execution_count": 23,
   "metadata": {},
   "outputs": [],
   "source": [
    "dfaccident = dfaccident.drop(dfaccident[dfaccident['Special_Conditions_at_Site'] == -1].index)\n"
   ]
  },
  {
   "cell_type": "code",
   "execution_count": 24,
   "metadata": {},
   "outputs": [
    {
     "name": "stdout",
     "output_type": "stream",
     "text": [
      "0\n",
      "0.0\n"
     ]
    }
   ],
   "source": [
    "value_counts = dfaccident['Urban_or_Rural_Area'].value_counts()\n",
    "count_minus_one = value_counts.get(-1, 0)  \n",
    "total_count = dfaccident['Urban_or_Rural_Area'].count()\n",
    "percentage_minus_one = (count_minus_one / total_count) * 100 if total_count > 0 else 0\n",
    "print(count_minus_one)\n",
    "print(percentage_minus_one)"
   ]
  },
  {
   "cell_type": "code",
   "execution_count": 25,
   "metadata": {},
   "outputs": [
    {
     "name": "stdout",
     "output_type": "stream",
     "text": [
      "0\n",
      "0.0\n"
     ]
    }
   ],
   "source": [
    "value_counts = dfaccident['Number_of_Casualties'].value_counts()\n",
    "count_minus_one = value_counts.get(-1, 0)  \n",
    "total_count = dfaccident['Number_of_Casualties'].count()\n",
    "percentage_minus_one = (count_minus_one / total_count) * 100 if total_count > 0 else 0\n",
    "print(count_minus_one)\n",
    "print(percentage_minus_one)"
   ]
  },
  {
   "cell_type": "code",
   "execution_count": 26,
   "metadata": {},
   "outputs": [
    {
     "name": "stdout",
     "output_type": "stream",
     "text": [
      "0\n",
      "0.0\n"
     ]
    }
   ],
   "source": [
    "value_counts = dfaccident['Number_of_Vehicles'].value_counts()\n",
    "count_minus_one = value_counts.get(-1, 0)  \n",
    "total_count = dfaccident['Number_of_Vehicles'].count()\n",
    "percentage_minus_one = (count_minus_one / total_count) * 100 if total_count > 0 else 0\n",
    "print(count_minus_one)\n",
    "print(percentage_minus_one)"
   ]
  },
  {
   "cell_type": "code",
   "execution_count": 27,
   "metadata": {},
   "outputs": [
    {
     "name": "stdout",
     "output_type": "stream",
     "text": [
      "0\n",
      "0.0\n"
     ]
    }
   ],
   "source": [
    "value_counts = dfaccident['Accident_Severity'].value_counts()\n",
    "count_minus_one = value_counts.get(-1, 0)  \n",
    "total_count = dfaccident['Accident_Severity'].count()\n",
    "percentage_minus_one = (count_minus_one / total_count) * 100 if total_count > 0 else 0\n",
    "print(count_minus_one)\n",
    "print(percentage_minus_one)"
   ]
  },
  {
   "cell_type": "code",
   "execution_count": 28,
   "metadata": {},
   "outputs": [
    {
     "data": {
      "text/plain": [
       "(898555, 17)"
      ]
     },
     "execution_count": 28,
     "metadata": {},
     "output_type": "execute_result"
    }
   ],
   "source": [
    "dfaccident.shape"
   ]
  },
  {
   "cell_type": "code",
   "execution_count": 29,
   "metadata": {},
   "outputs": [
    {
     "data": {
      "text/plain": [
       "(898555,)"
      ]
     },
     "execution_count": 29,
     "metadata": {},
     "output_type": "execute_result"
    }
   ],
   "source": [
    "dfcas = dfcas[dfcas['Accident_Index'].isin(dfaccident['Accident_Index'])]\n",
    "dfcas['Accident_Index'].unique().shape"
   ]
  },
  {
   "cell_type": "code",
   "execution_count": 30,
   "metadata": {},
   "outputs": [
    {
     "data": {
      "text/plain": [
       "(898555,)"
      ]
     },
     "execution_count": 30,
     "metadata": {},
     "output_type": "execute_result"
    }
   ],
   "source": [
    "dfvehicles = dfvehicles[dfvehicles['Accident_Index'].isin(dfaccident['Accident_Index'])]\n",
    "dfvehicles['Accident_Index'].unique().shape"
   ]
  },
  {
   "cell_type": "markdown",
   "metadata": {},
   "source": [
    "**That means we did it in a correct way** "
   ]
  },
  {
   "cell_type": "code",
   "execution_count": 31,
   "metadata": {},
   "outputs": [],
   "source": [
    "dfaccident.to_csv('accident_cleaned_data.csv', index=False)"
   ]
  },
  {
   "cell_type": "markdown",
   "metadata": {},
   "source": [
    "### 2 - Casualties Exploration"
   ]
  },
  {
   "cell_type": "code",
   "execution_count": 32,
   "metadata": {},
   "outputs": [
    {
     "data": {
      "text/html": [
       "<div>\n",
       "<style scoped>\n",
       "    .dataframe tbody tr th:only-of-type {\n",
       "        vertical-align: middle;\n",
       "    }\n",
       "\n",
       "    .dataframe tbody tr th {\n",
       "        vertical-align: top;\n",
       "    }\n",
       "\n",
       "    .dataframe thead th {\n",
       "        text-align: right;\n",
       "    }\n",
       "</style>\n",
       "<table border=\"1\" class=\"dataframe\">\n",
       "  <thead>\n",
       "    <tr style=\"text-align: right;\">\n",
       "      <th></th>\n",
       "      <th>Accident_Index</th>\n",
       "      <th>Vehicle_Reference</th>\n",
       "      <th>Casualty_Reference</th>\n",
       "      <th>Casualty_Class</th>\n",
       "      <th>Sex_of_Casualty</th>\n",
       "      <th>Age_of_Casualty</th>\n",
       "      <th>Age_Band_of_Casualty</th>\n",
       "      <th>Casualty_Severity</th>\n",
       "      <th>Pedestrian_Location</th>\n",
       "      <th>Pedestrian_Movement</th>\n",
       "      <th>Car_Passenger</th>\n",
       "      <th>Bus_or_Coach_Passenger</th>\n",
       "      <th>Pedestrian_Road_Maintenance_Worker</th>\n",
       "      <th>Casualty_Type</th>\n",
       "      <th>Casualty_Home_Area_Type</th>\n",
       "    </tr>\n",
       "  </thead>\n",
       "  <tbody>\n",
       "    <tr>\n",
       "      <th>1008106</th>\n",
       "      <td>200901BS70001</td>\n",
       "      <td>1</td>\n",
       "      <td>1</td>\n",
       "      <td>1</td>\n",
       "      <td>1</td>\n",
       "      <td>77</td>\n",
       "      <td>11</td>\n",
       "      <td>2</td>\n",
       "      <td>0</td>\n",
       "      <td>0</td>\n",
       "      <td>0</td>\n",
       "      <td>0</td>\n",
       "      <td>-1</td>\n",
       "      <td>2</td>\n",
       "      <td>1</td>\n",
       "    </tr>\n",
       "    <tr>\n",
       "      <th>1008107</th>\n",
       "      <td>200901BS70002</td>\n",
       "      <td>1</td>\n",
       "      <td>1</td>\n",
       "      <td>1</td>\n",
       "      <td>1</td>\n",
       "      <td>40</td>\n",
       "      <td>7</td>\n",
       "      <td>3</td>\n",
       "      <td>0</td>\n",
       "      <td>0</td>\n",
       "      <td>0</td>\n",
       "      <td>0</td>\n",
       "      <td>-1</td>\n",
       "      <td>19</td>\n",
       "      <td>1</td>\n",
       "    </tr>\n",
       "    <tr>\n",
       "      <th>1008108</th>\n",
       "      <td>200901BS70002</td>\n",
       "      <td>2</td>\n",
       "      <td>2</td>\n",
       "      <td>1</td>\n",
       "      <td>1</td>\n",
       "      <td>38</td>\n",
       "      <td>7</td>\n",
       "      <td>3</td>\n",
       "      <td>0</td>\n",
       "      <td>0</td>\n",
       "      <td>0</td>\n",
       "      <td>0</td>\n",
       "      <td>-1</td>\n",
       "      <td>11</td>\n",
       "      <td>1</td>\n",
       "    </tr>\n",
       "    <tr>\n",
       "      <th>1008109</th>\n",
       "      <td>200901BS70002</td>\n",
       "      <td>2</td>\n",
       "      <td>3</td>\n",
       "      <td>2</td>\n",
       "      <td>2</td>\n",
       "      <td>76</td>\n",
       "      <td>11</td>\n",
       "      <td>2</td>\n",
       "      <td>0</td>\n",
       "      <td>0</td>\n",
       "      <td>0</td>\n",
       "      <td>4</td>\n",
       "      <td>-1</td>\n",
       "      <td>11</td>\n",
       "      <td>1</td>\n",
       "    </tr>\n",
       "    <tr>\n",
       "      <th>1008110</th>\n",
       "      <td>200901BS70002</td>\n",
       "      <td>2</td>\n",
       "      <td>4</td>\n",
       "      <td>2</td>\n",
       "      <td>1</td>\n",
       "      <td>42</td>\n",
       "      <td>7</td>\n",
       "      <td>2</td>\n",
       "      <td>0</td>\n",
       "      <td>0</td>\n",
       "      <td>0</td>\n",
       "      <td>4</td>\n",
       "      <td>-1</td>\n",
       "      <td>11</td>\n",
       "      <td>1</td>\n",
       "    </tr>\n",
       "    <tr>\n",
       "      <th>...</th>\n",
       "      <td>...</td>\n",
       "      <td>...</td>\n",
       "      <td>...</td>\n",
       "      <td>...</td>\n",
       "      <td>...</td>\n",
       "      <td>...</td>\n",
       "      <td>...</td>\n",
       "      <td>...</td>\n",
       "      <td>...</td>\n",
       "      <td>...</td>\n",
       "      <td>...</td>\n",
       "      <td>...</td>\n",
       "      <td>...</td>\n",
       "      <td>...</td>\n",
       "      <td>...</td>\n",
       "    </tr>\n",
       "    <tr>\n",
       "      <th>2216715</th>\n",
       "      <td>2014984137714</td>\n",
       "      <td>1</td>\n",
       "      <td>1</td>\n",
       "      <td>2</td>\n",
       "      <td>2</td>\n",
       "      <td>16</td>\n",
       "      <td>4</td>\n",
       "      <td>3</td>\n",
       "      <td>0</td>\n",
       "      <td>0</td>\n",
       "      <td>2</td>\n",
       "      <td>0</td>\n",
       "      <td>0</td>\n",
       "      <td>9</td>\n",
       "      <td>1</td>\n",
       "    </tr>\n",
       "    <tr>\n",
       "      <th>2216716</th>\n",
       "      <td>2014984138414</td>\n",
       "      <td>1</td>\n",
       "      <td>1</td>\n",
       "      <td>1</td>\n",
       "      <td>1</td>\n",
       "      <td>27</td>\n",
       "      <td>6</td>\n",
       "      <td>3</td>\n",
       "      <td>0</td>\n",
       "      <td>0</td>\n",
       "      <td>0</td>\n",
       "      <td>0</td>\n",
       "      <td>0</td>\n",
       "      <td>9</td>\n",
       "      <td>1</td>\n",
       "    </tr>\n",
       "    <tr>\n",
       "      <th>2216717</th>\n",
       "      <td>2014984138414</td>\n",
       "      <td>2</td>\n",
       "      <td>2</td>\n",
       "      <td>1</td>\n",
       "      <td>1</td>\n",
       "      <td>44</td>\n",
       "      <td>7</td>\n",
       "      <td>2</td>\n",
       "      <td>0</td>\n",
       "      <td>0</td>\n",
       "      <td>0</td>\n",
       "      <td>0</td>\n",
       "      <td>0</td>\n",
       "      <td>19</td>\n",
       "      <td>1</td>\n",
       "    </tr>\n",
       "    <tr>\n",
       "      <th>2216718</th>\n",
       "      <td>2014984139614</td>\n",
       "      <td>1</td>\n",
       "      <td>2</td>\n",
       "      <td>2</td>\n",
       "      <td>1</td>\n",
       "      <td>61</td>\n",
       "      <td>9</td>\n",
       "      <td>3</td>\n",
       "      <td>0</td>\n",
       "      <td>0</td>\n",
       "      <td>0</td>\n",
       "      <td>4</td>\n",
       "      <td>0</td>\n",
       "      <td>11</td>\n",
       "      <td>2</td>\n",
       "    </tr>\n",
       "    <tr>\n",
       "      <th>2216719</th>\n",
       "      <td>2014984139614</td>\n",
       "      <td>2</td>\n",
       "      <td>1</td>\n",
       "      <td>1</td>\n",
       "      <td>1</td>\n",
       "      <td>79</td>\n",
       "      <td>11</td>\n",
       "      <td>3</td>\n",
       "      <td>0</td>\n",
       "      <td>0</td>\n",
       "      <td>0</td>\n",
       "      <td>0</td>\n",
       "      <td>0</td>\n",
       "      <td>9</td>\n",
       "      <td>3</td>\n",
       "    </tr>\n",
       "  </tbody>\n",
       "</table>\n",
       "<p>1206843 rows × 15 columns</p>\n",
       "</div>"
      ],
      "text/plain": [
       "        Accident_Index  Vehicle_Reference  Casualty_Reference  Casualty_Class  \\\n",
       "1008106  200901BS70001                  1                   1               1   \n",
       "1008107  200901BS70002                  1                   1               1   \n",
       "1008108  200901BS70002                  2                   2               1   \n",
       "1008109  200901BS70002                  2                   3               2   \n",
       "1008110  200901BS70002                  2                   4               2   \n",
       "...                ...                ...                 ...             ...   \n",
       "2216715  2014984137714                  1                   1               2   \n",
       "2216716  2014984138414                  1                   1               1   \n",
       "2216717  2014984138414                  2                   2               1   \n",
       "2216718  2014984139614                  1                   2               2   \n",
       "2216719  2014984139614                  2                   1               1   \n",
       "\n",
       "         Sex_of_Casualty  Age_of_Casualty  Age_Band_of_Casualty  \\\n",
       "1008106                1               77                    11   \n",
       "1008107                1               40                     7   \n",
       "1008108                1               38                     7   \n",
       "1008109                2               76                    11   \n",
       "1008110                1               42                     7   \n",
       "...                  ...              ...                   ...   \n",
       "2216715                2               16                     4   \n",
       "2216716                1               27                     6   \n",
       "2216717                1               44                     7   \n",
       "2216718                1               61                     9   \n",
       "2216719                1               79                    11   \n",
       "\n",
       "         Casualty_Severity  Pedestrian_Location  Pedestrian_Movement  \\\n",
       "1008106                  2                    0                    0   \n",
       "1008107                  3                    0                    0   \n",
       "1008108                  3                    0                    0   \n",
       "1008109                  2                    0                    0   \n",
       "1008110                  2                    0                    0   \n",
       "...                    ...                  ...                  ...   \n",
       "2216715                  3                    0                    0   \n",
       "2216716                  3                    0                    0   \n",
       "2216717                  2                    0                    0   \n",
       "2216718                  3                    0                    0   \n",
       "2216719                  3                    0                    0   \n",
       "\n",
       "         Car_Passenger  Bus_or_Coach_Passenger  \\\n",
       "1008106              0                       0   \n",
       "1008107              0                       0   \n",
       "1008108              0                       0   \n",
       "1008109              0                       4   \n",
       "1008110              0                       4   \n",
       "...                ...                     ...   \n",
       "2216715              2                       0   \n",
       "2216716              0                       0   \n",
       "2216717              0                       0   \n",
       "2216718              0                       4   \n",
       "2216719              0                       0   \n",
       "\n",
       "         Pedestrian_Road_Maintenance_Worker  Casualty_Type  \\\n",
       "1008106                                  -1              2   \n",
       "1008107                                  -1             19   \n",
       "1008108                                  -1             11   \n",
       "1008109                                  -1             11   \n",
       "1008110                                  -1             11   \n",
       "...                                     ...            ...   \n",
       "2216715                                   0              9   \n",
       "2216716                                   0              9   \n",
       "2216717                                   0             19   \n",
       "2216718                                   0             11   \n",
       "2216719                                   0              9   \n",
       "\n",
       "         Casualty_Home_Area_Type  \n",
       "1008106                        1  \n",
       "1008107                        1  \n",
       "1008108                        1  \n",
       "1008109                        1  \n",
       "1008110                        1  \n",
       "...                          ...  \n",
       "2216715                        1  \n",
       "2216716                        1  \n",
       "2216717                        1  \n",
       "2216718                        2  \n",
       "2216719                        3  \n",
       "\n",
       "[1206843 rows x 15 columns]"
      ]
     },
     "execution_count": 32,
     "metadata": {},
     "output_type": "execute_result"
    }
   ],
   "source": [
    "dfcas"
   ]
  },
  {
   "cell_type": "code",
   "execution_count": 33,
   "metadata": {},
   "outputs": [
    {
     "data": {
      "text/plain": [
       "Accident_Index                        0\n",
       "Vehicle_Reference                     0\n",
       "Casualty_Reference                    0\n",
       "Casualty_Class                        0\n",
       "Sex_of_Casualty                       0\n",
       "Age_of_Casualty                       0\n",
       "Age_Band_of_Casualty                  0\n",
       "Casualty_Severity                     0\n",
       "Pedestrian_Location                   0\n",
       "Pedestrian_Movement                   0\n",
       "Car_Passenger                         0\n",
       "Bus_or_Coach_Passenger                0\n",
       "Pedestrian_Road_Maintenance_Worker    0\n",
       "Casualty_Type                         0\n",
       "Casualty_Home_Area_Type               0\n",
       "dtype: int64"
      ]
     },
     "execution_count": 33,
     "metadata": {},
     "output_type": "execute_result"
    }
   ],
   "source": [
    "dfcas.isnull().sum()\n"
   ]
  },
  {
   "cell_type": "code",
   "execution_count": 34,
   "metadata": {},
   "outputs": [
    {
     "name": "stdout",
     "output_type": "stream",
     "text": [
      "<class 'pandas.core.frame.DataFrame'>\n",
      "Index: 1206843 entries, 1008106 to 2216719\n",
      "Data columns (total 15 columns):\n",
      " #   Column                              Non-Null Count    Dtype \n",
      "---  ------                              --------------    ----- \n",
      " 0   Accident_Index                      1206843 non-null  object\n",
      " 1   Vehicle_Reference                   1206843 non-null  int64 \n",
      " 2   Casualty_Reference                  1206843 non-null  int64 \n",
      " 3   Casualty_Class                      1206843 non-null  int64 \n",
      " 4   Sex_of_Casualty                     1206843 non-null  int64 \n",
      " 5   Age_of_Casualty                     1206843 non-null  int64 \n",
      " 6   Age_Band_of_Casualty                1206843 non-null  int64 \n",
      " 7   Casualty_Severity                   1206843 non-null  int64 \n",
      " 8   Pedestrian_Location                 1206843 non-null  int64 \n",
      " 9   Pedestrian_Movement                 1206843 non-null  int64 \n",
      " 10  Car_Passenger                       1206843 non-null  int64 \n",
      " 11  Bus_or_Coach_Passenger              1206843 non-null  int64 \n",
      " 12  Pedestrian_Road_Maintenance_Worker  1206843 non-null  int64 \n",
      " 13  Casualty_Type                       1206843 non-null  int64 \n",
      " 14  Casualty_Home_Area_Type             1206843 non-null  int64 \n",
      "dtypes: int64(14), object(1)\n",
      "memory usage: 147.3+ MB\n"
     ]
    }
   ],
   "source": [
    "dfcas.info()"
   ]
  },
  {
   "cell_type": "code",
   "execution_count": 35,
   "metadata": {},
   "outputs": [
    {
     "data": {
      "text/plain": [
       "(1206843, 15)"
      ]
     },
     "execution_count": 35,
     "metadata": {},
     "output_type": "execute_result"
    }
   ],
   "source": [
    "dfcas.shape"
   ]
  },
  {
   "cell_type": "code",
   "execution_count": 36,
   "metadata": {},
   "outputs": [
    {
     "data": {
      "text/plain": [
       "Accident_Index                      0\n",
       "Vehicle_Reference                   0\n",
       "Vehicle_Type                        0\n",
       "Towing_and_Articulation             0\n",
       "Vehicle_Manoeuvre                   0\n",
       "Vehicle_Location-Restricted_Lane    0\n",
       "Junction_Location                   0\n",
       "Skidding_and_Overturning            0\n",
       "Hit_Object_in_Carriageway           0\n",
       "Vehicle_Leaving_Carriageway         0\n",
       "Hit_Object_off_Carriageway          0\n",
       "1st_Point_of_Impact                 0\n",
       "Was_Vehicle_Left_Hand_Drive?        0\n",
       "Journey_Purpose_of_Driver           0\n",
       "Sex_of_Driver                       0\n",
       "Age_of_Driver                       0\n",
       "Age_Band_of_Driver                  0\n",
       "Engine_Capacity_(CC)                0\n",
       "Propulsion_Code                     0\n",
       "Age_of_Vehicle                      0\n",
       "Driver_IMD_Decile                   0\n",
       "Driver_Home_Area_Type               0\n",
       "dtype: int64"
      ]
     },
     "execution_count": 36,
     "metadata": {},
     "output_type": "execute_result"
    }
   ],
   "source": [
    "dfvehicles.isnull().sum()"
   ]
  },
  {
   "cell_type": "code",
   "execution_count": 37,
   "metadata": {},
   "outputs": [
    {
     "name": "stdout",
     "output_type": "stream",
     "text": [
      "<class 'pandas.core.frame.DataFrame'>\n",
      "Index: 1641028 entries, 1360865 to 3004424\n",
      "Data columns (total 22 columns):\n",
      " #   Column                            Non-Null Count    Dtype \n",
      "---  ------                            --------------    ----- \n",
      " 0   Accident_Index                    1641028 non-null  object\n",
      " 1   Vehicle_Reference                 1641028 non-null  int64 \n",
      " 2   Vehicle_Type                      1641028 non-null  int64 \n",
      " 3   Towing_and_Articulation           1641028 non-null  int64 \n",
      " 4   Vehicle_Manoeuvre                 1641028 non-null  int64 \n",
      " 5   Vehicle_Location-Restricted_Lane  1641028 non-null  int64 \n",
      " 6   Junction_Location                 1641028 non-null  int64 \n",
      " 7   Skidding_and_Overturning          1641028 non-null  int64 \n",
      " 8   Hit_Object_in_Carriageway         1641028 non-null  int64 \n",
      " 9   Vehicle_Leaving_Carriageway       1641028 non-null  int64 \n",
      " 10  Hit_Object_off_Carriageway        1641028 non-null  int64 \n",
      " 11  1st_Point_of_Impact               1641028 non-null  int64 \n",
      " 12  Was_Vehicle_Left_Hand_Drive?      1641028 non-null  int64 \n",
      " 13  Journey_Purpose_of_Driver         1641028 non-null  int64 \n",
      " 14  Sex_of_Driver                     1641028 non-null  int64 \n",
      " 15  Age_of_Driver                     1641028 non-null  int64 \n",
      " 16  Age_Band_of_Driver                1641028 non-null  int64 \n",
      " 17  Engine_Capacity_(CC)              1641028 non-null  int64 \n",
      " 18  Propulsion_Code                   1641028 non-null  int64 \n",
      " 19  Age_of_Vehicle                    1641028 non-null  int64 \n",
      " 20  Driver_IMD_Decile                 1641028 non-null  int64 \n",
      " 21  Driver_Home_Area_Type             1641028 non-null  int64 \n",
      "dtypes: int64(21), object(1)\n",
      "memory usage: 288.0+ MB\n"
     ]
    }
   ],
   "source": [
    "dfvehicles.info()"
   ]
  },
  {
   "cell_type": "code",
   "execution_count": 38,
   "metadata": {},
   "outputs": [
    {
     "data": {
      "text/plain": [
       "(1641028, 22)"
      ]
     },
     "execution_count": 38,
     "metadata": {},
     "output_type": "execute_result"
    }
   ],
   "source": [
    "dfvehicles.shape"
   ]
  },
  {
   "cell_type": "code",
   "execution_count": 39,
   "metadata": {},
   "outputs": [],
   "source": [
    "dfcas=dfcas[['Accident_Index','Casualty_Reference','Sex_of_Casualty','Age_of_Casualty','Casualty_Severity',\n",
    "             'Car_Passenger','Bus_or_Coach_Passenger','Casualty_Type',]]"
   ]
  },
  {
   "cell_type": "code",
   "execution_count": 40,
   "metadata": {},
   "outputs": [
    {
     "name": "stdout",
     "output_type": "stream",
     "text": [
      "0\n",
      "0.0\n"
     ]
    }
   ],
   "source": [
    "value_counts = dfcas['Casualty_Reference'].value_counts()\n",
    "count_minus_one = value_counts.get(-1, 0)  \n",
    "total_count = dfcas['Casualty_Reference'].count()\n",
    "percentage_minus_one = (count_minus_one / total_count) * 100 if total_count > 0 else 0\n",
    "print(count_minus_one)\n",
    "print(percentage_minus_one)"
   ]
  },
  {
   "cell_type": "code",
   "execution_count": 41,
   "metadata": {},
   "outputs": [
    {
     "name": "stdout",
     "output_type": "stream",
     "text": [
      "111\n",
      "0.009197550965618561\n"
     ]
    }
   ],
   "source": [
    "value_counts = dfcas['Sex_of_Casualty'].value_counts()\n",
    "count_minus_one = value_counts.get(-1, 0)  \n",
    "total_count = dfcas['Sex_of_Casualty'].count()\n",
    "percentage_minus_one = (count_minus_one / total_count) * 100 if total_count > 0 else 0\n",
    "print(count_minus_one)\n",
    "print(percentage_minus_one)"
   ]
  },
  {
   "cell_type": "code",
   "execution_count": 42,
   "metadata": {},
   "outputs": [],
   "source": [
    "dfcas = dfcas.drop(dfcas[dfcas['Sex_of_Casualty'] == -1].index)\n"
   ]
  },
  {
   "cell_type": "code",
   "execution_count": 43,
   "metadata": {},
   "outputs": [
    {
     "name": "stdout",
     "output_type": "stream",
     "text": [
      "20464\n",
      "1.695819784343168\n"
     ]
    }
   ],
   "source": [
    "value_counts = dfcas['Age_of_Casualty'].value_counts()\n",
    "count_minus_one = value_counts.get(-1, 0)  \n",
    "total_count = dfcas['Age_of_Casualty'].count()\n",
    "percentage_minus_one = (count_minus_one / total_count) * 100 if total_count > 0 else 0\n",
    "print(count_minus_one)\n",
    "print(percentage_minus_one)"
   ]
  },
  {
   "cell_type": "code",
   "execution_count": 44,
   "metadata": {},
   "outputs": [],
   "source": [
    "dfcas = dfcas.drop(dfcas[dfcas['Age_of_Casualty'] == -1].index)"
   ]
  },
  {
   "cell_type": "code",
   "execution_count": 45,
   "metadata": {},
   "outputs": [
    {
     "name": "stdout",
     "output_type": "stream",
     "text": [
      "0\n",
      "0.0\n"
     ]
    }
   ],
   "source": [
    "value_counts = dfcas['Casualty_Severity'].value_counts()\n",
    "count_minus_one = value_counts.get(-1, 0)  \n",
    "total_count = dfcas['Casualty_Severity'].count()\n",
    "percentage_minus_one = (count_minus_one / total_count) * 100 if total_count > 0 else 0\n",
    "print(count_minus_one)\n",
    "print(percentage_minus_one)"
   ]
  },
  {
   "cell_type": "code",
   "execution_count": 46,
   "metadata": {},
   "outputs": [
    {
     "name": "stdout",
     "output_type": "stream",
     "text": [
      "260\n",
      "0.021917475646312638\n"
     ]
    }
   ],
   "source": [
    "value_counts = dfcas['Car_Passenger'].value_counts()\n",
    "count_minus_one = value_counts.get(-1, 0)  \n",
    "total_count = dfcas['Car_Passenger'].count()\n",
    "percentage_minus_one = (count_minus_one / total_count) * 100 if total_count > 0 else 0\n",
    "print(count_minus_one)\n",
    "print(percentage_minus_one)"
   ]
  },
  {
   "cell_type": "code",
   "execution_count": 47,
   "metadata": {},
   "outputs": [],
   "source": [
    "dfcas = dfcas.drop(dfcas[dfcas['Car_Passenger'] == -1].index)"
   ]
  },
  {
   "cell_type": "code",
   "execution_count": 48,
   "metadata": {},
   "outputs": [
    {
     "name": "stdout",
     "output_type": "stream",
     "text": [
      "25\n",
      "0.0021079115823839298\n"
     ]
    }
   ],
   "source": [
    "value_counts = dfcas['Bus_or_Coach_Passenger'].value_counts()\n",
    "count_minus_one = value_counts.get(-1, 0)  \n",
    "total_count = dfcas['Bus_or_Coach_Passenger'].count()\n",
    "percentage_minus_one = (count_minus_one / total_count) * 100 if total_count > 0 else 0\n",
    "print(count_minus_one)\n",
    "print(percentage_minus_one)"
   ]
  },
  {
   "cell_type": "code",
   "execution_count": 49,
   "metadata": {},
   "outputs": [],
   "source": [
    "dfcas = dfcas.drop(dfcas[dfcas['Bus_or_Coach_Passenger'] == -1].index)"
   ]
  },
  {
   "cell_type": "code",
   "execution_count": 50,
   "metadata": {},
   "outputs": [
    {
     "name": "stdout",
     "output_type": "stream",
     "text": [
      "0\n",
      "0.0\n"
     ]
    }
   ],
   "source": [
    "value_counts = dfcas['Casualty_Type'].value_counts()\n",
    "count_minus_one = value_counts.get(-1, 0)  \n",
    "total_count = dfcas['Casualty_Type'].count()\n",
    "percentage_minus_one = (count_minus_one / total_count) * 100 if total_count > 0 else 0\n",
    "print(count_minus_one)\n",
    "print(percentage_minus_one)"
   ]
  },
  {
   "cell_type": "code",
   "execution_count": 51,
   "metadata": {},
   "outputs": [],
   "source": [
    "dfcas = dfcas.drop(dfcas[dfcas['Casualty_Type'] == -1].index)"
   ]
  },
  {
   "cell_type": "code",
   "execution_count": 52,
   "metadata": {},
   "outputs": [
    {
     "data": {
      "text/html": [
       "<div>\n",
       "<style scoped>\n",
       "    .dataframe tbody tr th:only-of-type {\n",
       "        vertical-align: middle;\n",
       "    }\n",
       "\n",
       "    .dataframe tbody tr th {\n",
       "        vertical-align: top;\n",
       "    }\n",
       "\n",
       "    .dataframe thead th {\n",
       "        text-align: right;\n",
       "    }\n",
       "</style>\n",
       "<table border=\"1\" class=\"dataframe\">\n",
       "  <thead>\n",
       "    <tr style=\"text-align: right;\">\n",
       "      <th></th>\n",
       "      <th>Accident_Index</th>\n",
       "      <th>Casualty_Reference</th>\n",
       "      <th>Sex_of_Casualty</th>\n",
       "      <th>Age_of_Casualty</th>\n",
       "      <th>Casualty_Severity</th>\n",
       "      <th>Car_Passenger</th>\n",
       "      <th>Bus_or_Coach_Passenger</th>\n",
       "      <th>Casualty_Type</th>\n",
       "    </tr>\n",
       "  </thead>\n",
       "  <tbody>\n",
       "    <tr>\n",
       "      <th>1008106</th>\n",
       "      <td>200901BS70001</td>\n",
       "      <td>1</td>\n",
       "      <td>1</td>\n",
       "      <td>77</td>\n",
       "      <td>2</td>\n",
       "      <td>0</td>\n",
       "      <td>0</td>\n",
       "      <td>2</td>\n",
       "    </tr>\n",
       "    <tr>\n",
       "      <th>1008107</th>\n",
       "      <td>200901BS70002</td>\n",
       "      <td>1</td>\n",
       "      <td>1</td>\n",
       "      <td>40</td>\n",
       "      <td>3</td>\n",
       "      <td>0</td>\n",
       "      <td>0</td>\n",
       "      <td>19</td>\n",
       "    </tr>\n",
       "    <tr>\n",
       "      <th>1008108</th>\n",
       "      <td>200901BS70002</td>\n",
       "      <td>2</td>\n",
       "      <td>1</td>\n",
       "      <td>38</td>\n",
       "      <td>3</td>\n",
       "      <td>0</td>\n",
       "      <td>0</td>\n",
       "      <td>11</td>\n",
       "    </tr>\n",
       "    <tr>\n",
       "      <th>1008109</th>\n",
       "      <td>200901BS70002</td>\n",
       "      <td>3</td>\n",
       "      <td>2</td>\n",
       "      <td>76</td>\n",
       "      <td>2</td>\n",
       "      <td>0</td>\n",
       "      <td>4</td>\n",
       "      <td>11</td>\n",
       "    </tr>\n",
       "    <tr>\n",
       "      <th>1008110</th>\n",
       "      <td>200901BS70002</td>\n",
       "      <td>4</td>\n",
       "      <td>1</td>\n",
       "      <td>42</td>\n",
       "      <td>2</td>\n",
       "      <td>0</td>\n",
       "      <td>4</td>\n",
       "      <td>11</td>\n",
       "    </tr>\n",
       "    <tr>\n",
       "      <th>...</th>\n",
       "      <td>...</td>\n",
       "      <td>...</td>\n",
       "      <td>...</td>\n",
       "      <td>...</td>\n",
       "      <td>...</td>\n",
       "      <td>...</td>\n",
       "      <td>...</td>\n",
       "      <td>...</td>\n",
       "    </tr>\n",
       "    <tr>\n",
       "      <th>2216715</th>\n",
       "      <td>2014984137714</td>\n",
       "      <td>1</td>\n",
       "      <td>2</td>\n",
       "      <td>16</td>\n",
       "      <td>3</td>\n",
       "      <td>2</td>\n",
       "      <td>0</td>\n",
       "      <td>9</td>\n",
       "    </tr>\n",
       "    <tr>\n",
       "      <th>2216716</th>\n",
       "      <td>2014984138414</td>\n",
       "      <td>1</td>\n",
       "      <td>1</td>\n",
       "      <td>27</td>\n",
       "      <td>3</td>\n",
       "      <td>0</td>\n",
       "      <td>0</td>\n",
       "      <td>9</td>\n",
       "    </tr>\n",
       "    <tr>\n",
       "      <th>2216717</th>\n",
       "      <td>2014984138414</td>\n",
       "      <td>2</td>\n",
       "      <td>1</td>\n",
       "      <td>44</td>\n",
       "      <td>2</td>\n",
       "      <td>0</td>\n",
       "      <td>0</td>\n",
       "      <td>19</td>\n",
       "    </tr>\n",
       "    <tr>\n",
       "      <th>2216718</th>\n",
       "      <td>2014984139614</td>\n",
       "      <td>2</td>\n",
       "      <td>1</td>\n",
       "      <td>61</td>\n",
       "      <td>3</td>\n",
       "      <td>0</td>\n",
       "      <td>4</td>\n",
       "      <td>11</td>\n",
       "    </tr>\n",
       "    <tr>\n",
       "      <th>2216719</th>\n",
       "      <td>2014984139614</td>\n",
       "      <td>1</td>\n",
       "      <td>1</td>\n",
       "      <td>79</td>\n",
       "      <td>3</td>\n",
       "      <td>0</td>\n",
       "      <td>0</td>\n",
       "      <td>9</td>\n",
       "    </tr>\n",
       "  </tbody>\n",
       "</table>\n",
       "<p>1185983 rows × 8 columns</p>\n",
       "</div>"
      ],
      "text/plain": [
       "        Accident_Index  Casualty_Reference  Sex_of_Casualty  Age_of_Casualty  \\\n",
       "1008106  200901BS70001                   1                1               77   \n",
       "1008107  200901BS70002                   1                1               40   \n",
       "1008108  200901BS70002                   2                1               38   \n",
       "1008109  200901BS70002                   3                2               76   \n",
       "1008110  200901BS70002                   4                1               42   \n",
       "...                ...                 ...              ...              ...   \n",
       "2216715  2014984137714                   1                2               16   \n",
       "2216716  2014984138414                   1                1               27   \n",
       "2216717  2014984138414                   2                1               44   \n",
       "2216718  2014984139614                   2                1               61   \n",
       "2216719  2014984139614                   1                1               79   \n",
       "\n",
       "         Casualty_Severity  Car_Passenger  Bus_or_Coach_Passenger  \\\n",
       "1008106                  2              0                       0   \n",
       "1008107                  3              0                       0   \n",
       "1008108                  3              0                       0   \n",
       "1008109                  2              0                       4   \n",
       "1008110                  2              0                       4   \n",
       "...                    ...            ...                     ...   \n",
       "2216715                  3              2                       0   \n",
       "2216716                  3              0                       0   \n",
       "2216717                  2              0                       0   \n",
       "2216718                  3              0                       4   \n",
       "2216719                  3              0                       0   \n",
       "\n",
       "         Casualty_Type  \n",
       "1008106              2  \n",
       "1008107             19  \n",
       "1008108             11  \n",
       "1008109             11  \n",
       "1008110             11  \n",
       "...                ...  \n",
       "2216715              9  \n",
       "2216716              9  \n",
       "2216717             19  \n",
       "2216718             11  \n",
       "2216719              9  \n",
       "\n",
       "[1185983 rows x 8 columns]"
      ]
     },
     "execution_count": 52,
     "metadata": {},
     "output_type": "execute_result"
    }
   ],
   "source": [
    "dfcas"
   ]
  },
  {
   "cell_type": "code",
   "execution_count": 53,
   "metadata": {},
   "outputs": [
    {
     "data": {
      "text/plain": [
       "(885429,)"
      ]
     },
     "execution_count": 53,
     "metadata": {},
     "output_type": "execute_result"
    }
   ],
   "source": [
    "dfcas['Accident_Index'].unique().shape"
   ]
  },
  {
   "cell_type": "code",
   "execution_count": 55,
   "metadata": {},
   "outputs": [],
   "source": [
    "dfcas.to_csv('casualties_cleaned_data.csv',index=False)"
   ]
  },
  {
   "cell_type": "markdown",
   "metadata": {},
   "source": [
    "### 3 - Vehicles Exploration"
   ]
  },
  {
   "cell_type": "code",
   "execution_count": 56,
   "metadata": {},
   "outputs": [
    {
     "data": {
      "text/html": [
       "<div>\n",
       "<style scoped>\n",
       "    .dataframe tbody tr th:only-of-type {\n",
       "        vertical-align: middle;\n",
       "    }\n",
       "\n",
       "    .dataframe tbody tr th {\n",
       "        vertical-align: top;\n",
       "    }\n",
       "\n",
       "    .dataframe thead th {\n",
       "        text-align: right;\n",
       "    }\n",
       "</style>\n",
       "<table border=\"1\" class=\"dataframe\">\n",
       "  <thead>\n",
       "    <tr style=\"text-align: right;\">\n",
       "      <th></th>\n",
       "      <th>Accident_Index</th>\n",
       "      <th>Vehicle_Reference</th>\n",
       "      <th>Vehicle_Type</th>\n",
       "      <th>Towing_and_Articulation</th>\n",
       "      <th>Vehicle_Manoeuvre</th>\n",
       "      <th>Vehicle_Location-Restricted_Lane</th>\n",
       "      <th>Junction_Location</th>\n",
       "      <th>Skidding_and_Overturning</th>\n",
       "      <th>Hit_Object_in_Carriageway</th>\n",
       "      <th>Vehicle_Leaving_Carriageway</th>\n",
       "      <th>Hit_Object_off_Carriageway</th>\n",
       "      <th>1st_Point_of_Impact</th>\n",
       "      <th>Was_Vehicle_Left_Hand_Drive?</th>\n",
       "      <th>Journey_Purpose_of_Driver</th>\n",
       "      <th>Sex_of_Driver</th>\n",
       "      <th>Age_of_Driver</th>\n",
       "      <th>Age_Band_of_Driver</th>\n",
       "      <th>Engine_Capacity_(CC)</th>\n",
       "      <th>Propulsion_Code</th>\n",
       "      <th>Age_of_Vehicle</th>\n",
       "      <th>Driver_IMD_Decile</th>\n",
       "      <th>Driver_Home_Area_Type</th>\n",
       "    </tr>\n",
       "  </thead>\n",
       "  <tbody>\n",
       "    <tr>\n",
       "      <th>1360865</th>\n",
       "      <td>200901BS70001</td>\n",
       "      <td>1</td>\n",
       "      <td>2</td>\n",
       "      <td>0</td>\n",
       "      <td>18</td>\n",
       "      <td>0</td>\n",
       "      <td>8</td>\n",
       "      <td>0</td>\n",
       "      <td>0</td>\n",
       "      <td>0</td>\n",
       "      <td>0</td>\n",
       "      <td>1</td>\n",
       "      <td>1</td>\n",
       "      <td>15</td>\n",
       "      <td>1</td>\n",
       "      <td>77</td>\n",
       "      <td>11</td>\n",
       "      <td>49</td>\n",
       "      <td>1</td>\n",
       "      <td>26</td>\n",
       "      <td>4</td>\n",
       "      <td>1</td>\n",
       "    </tr>\n",
       "    <tr>\n",
       "      <th>1360866</th>\n",
       "      <td>200901BS70001</td>\n",
       "      <td>2</td>\n",
       "      <td>9</td>\n",
       "      <td>0</td>\n",
       "      <td>18</td>\n",
       "      <td>0</td>\n",
       "      <td>8</td>\n",
       "      <td>0</td>\n",
       "      <td>0</td>\n",
       "      <td>0</td>\n",
       "      <td>0</td>\n",
       "      <td>1</td>\n",
       "      <td>1</td>\n",
       "      <td>15</td>\n",
       "      <td>1</td>\n",
       "      <td>31</td>\n",
       "      <td>6</td>\n",
       "      <td>3824</td>\n",
       "      <td>1</td>\n",
       "      <td>2</td>\n",
       "      <td>2</td>\n",
       "      <td>1</td>\n",
       "    </tr>\n",
       "    <tr>\n",
       "      <th>1360867</th>\n",
       "      <td>200901BS70002</td>\n",
       "      <td>1</td>\n",
       "      <td>19</td>\n",
       "      <td>0</td>\n",
       "      <td>18</td>\n",
       "      <td>3</td>\n",
       "      <td>8</td>\n",
       "      <td>0</td>\n",
       "      <td>0</td>\n",
       "      <td>0</td>\n",
       "      <td>0</td>\n",
       "      <td>1</td>\n",
       "      <td>1</td>\n",
       "      <td>1</td>\n",
       "      <td>1</td>\n",
       "      <td>40</td>\n",
       "      <td>7</td>\n",
       "      <td>1753</td>\n",
       "      <td>2</td>\n",
       "      <td>3</td>\n",
       "      <td>3</td>\n",
       "      <td>1</td>\n",
       "    </tr>\n",
       "    <tr>\n",
       "      <th>1360868</th>\n",
       "      <td>200901BS70002</td>\n",
       "      <td>2</td>\n",
       "      <td>11</td>\n",
       "      <td>0</td>\n",
       "      <td>18</td>\n",
       "      <td>0</td>\n",
       "      <td>8</td>\n",
       "      <td>0</td>\n",
       "      <td>10</td>\n",
       "      <td>7</td>\n",
       "      <td>10</td>\n",
       "      <td>4</td>\n",
       "      <td>1</td>\n",
       "      <td>1</td>\n",
       "      <td>1</td>\n",
       "      <td>38</td>\n",
       "      <td>7</td>\n",
       "      <td>6700</td>\n",
       "      <td>2</td>\n",
       "      <td>1</td>\n",
       "      <td>2</td>\n",
       "      <td>1</td>\n",
       "    </tr>\n",
       "    <tr>\n",
       "      <th>1360869</th>\n",
       "      <td>200901BS70003</td>\n",
       "      <td>1</td>\n",
       "      <td>3</td>\n",
       "      <td>0</td>\n",
       "      <td>18</td>\n",
       "      <td>0</td>\n",
       "      <td>8</td>\n",
       "      <td>0</td>\n",
       "      <td>0</td>\n",
       "      <td>0</td>\n",
       "      <td>0</td>\n",
       "      <td>0</td>\n",
       "      <td>1</td>\n",
       "      <td>15</td>\n",
       "      <td>1</td>\n",
       "      <td>40</td>\n",
       "      <td>7</td>\n",
       "      <td>124</td>\n",
       "      <td>1</td>\n",
       "      <td>2</td>\n",
       "      <td>-1</td>\n",
       "      <td>-1</td>\n",
       "    </tr>\n",
       "    <tr>\n",
       "      <th>...</th>\n",
       "      <td>...</td>\n",
       "      <td>...</td>\n",
       "      <td>...</td>\n",
       "      <td>...</td>\n",
       "      <td>...</td>\n",
       "      <td>...</td>\n",
       "      <td>...</td>\n",
       "      <td>...</td>\n",
       "      <td>...</td>\n",
       "      <td>...</td>\n",
       "      <td>...</td>\n",
       "      <td>...</td>\n",
       "      <td>...</td>\n",
       "      <td>...</td>\n",
       "      <td>...</td>\n",
       "      <td>...</td>\n",
       "      <td>...</td>\n",
       "      <td>...</td>\n",
       "      <td>...</td>\n",
       "      <td>...</td>\n",
       "      <td>...</td>\n",
       "      <td>...</td>\n",
       "    </tr>\n",
       "    <tr>\n",
       "      <th>3004420</th>\n",
       "      <td>2014984138414</td>\n",
       "      <td>1</td>\n",
       "      <td>9</td>\n",
       "      <td>0</td>\n",
       "      <td>5</td>\n",
       "      <td>0</td>\n",
       "      <td>6</td>\n",
       "      <td>0</td>\n",
       "      <td>0</td>\n",
       "      <td>0</td>\n",
       "      <td>0</td>\n",
       "      <td>3</td>\n",
       "      <td>1</td>\n",
       "      <td>2</td>\n",
       "      <td>1</td>\n",
       "      <td>27</td>\n",
       "      <td>6</td>\n",
       "      <td>1781</td>\n",
       "      <td>1</td>\n",
       "      <td>12</td>\n",
       "      <td>6</td>\n",
       "      <td>1</td>\n",
       "    </tr>\n",
       "    <tr>\n",
       "      <th>3004421</th>\n",
       "      <td>2014984138414</td>\n",
       "      <td>2</td>\n",
       "      <td>19</td>\n",
       "      <td>0</td>\n",
       "      <td>18</td>\n",
       "      <td>0</td>\n",
       "      <td>1</td>\n",
       "      <td>1</td>\n",
       "      <td>4</td>\n",
       "      <td>7</td>\n",
       "      <td>11</td>\n",
       "      <td>1</td>\n",
       "      <td>1</td>\n",
       "      <td>2</td>\n",
       "      <td>1</td>\n",
       "      <td>44</td>\n",
       "      <td>7</td>\n",
       "      <td>1686</td>\n",
       "      <td>2</td>\n",
       "      <td>4</td>\n",
       "      <td>1</td>\n",
       "      <td>1</td>\n",
       "    </tr>\n",
       "    <tr>\n",
       "      <th>3004422</th>\n",
       "      <td>2014984138414</td>\n",
       "      <td>3</td>\n",
       "      <td>9</td>\n",
       "      <td>0</td>\n",
       "      <td>18</td>\n",
       "      <td>0</td>\n",
       "      <td>2</td>\n",
       "      <td>1</td>\n",
       "      <td>4</td>\n",
       "      <td>1</td>\n",
       "      <td>0</td>\n",
       "      <td>3</td>\n",
       "      <td>1</td>\n",
       "      <td>6</td>\n",
       "      <td>1</td>\n",
       "      <td>73</td>\n",
       "      <td>10</td>\n",
       "      <td>2143</td>\n",
       "      <td>2</td>\n",
       "      <td>-1</td>\n",
       "      <td>8</td>\n",
       "      <td>3</td>\n",
       "    </tr>\n",
       "    <tr>\n",
       "      <th>3004423</th>\n",
       "      <td>2014984139614</td>\n",
       "      <td>1</td>\n",
       "      <td>11</td>\n",
       "      <td>0</td>\n",
       "      <td>9</td>\n",
       "      <td>0</td>\n",
       "      <td>8</td>\n",
       "      <td>0</td>\n",
       "      <td>0</td>\n",
       "      <td>0</td>\n",
       "      <td>0</td>\n",
       "      <td>3</td>\n",
       "      <td>1</td>\n",
       "      <td>1</td>\n",
       "      <td>1</td>\n",
       "      <td>40</td>\n",
       "      <td>7</td>\n",
       "      <td>4500</td>\n",
       "      <td>2</td>\n",
       "      <td>4</td>\n",
       "      <td>-1</td>\n",
       "      <td>3</td>\n",
       "    </tr>\n",
       "    <tr>\n",
       "      <th>3004424</th>\n",
       "      <td>2014984139614</td>\n",
       "      <td>2</td>\n",
       "      <td>9</td>\n",
       "      <td>0</td>\n",
       "      <td>18</td>\n",
       "      <td>0</td>\n",
       "      <td>1</td>\n",
       "      <td>0</td>\n",
       "      <td>0</td>\n",
       "      <td>0</td>\n",
       "      <td>0</td>\n",
       "      <td>1</td>\n",
       "      <td>1</td>\n",
       "      <td>6</td>\n",
       "      <td>1</td>\n",
       "      <td>79</td>\n",
       "      <td>11</td>\n",
       "      <td>1398</td>\n",
       "      <td>2</td>\n",
       "      <td>11</td>\n",
       "      <td>-1</td>\n",
       "      <td>3</td>\n",
       "    </tr>\n",
       "  </tbody>\n",
       "</table>\n",
       "<p>1641028 rows × 22 columns</p>\n",
       "</div>"
      ],
      "text/plain": [
       "        Accident_Index  Vehicle_Reference  Vehicle_Type  \\\n",
       "1360865  200901BS70001                  1             2   \n",
       "1360866  200901BS70001                  2             9   \n",
       "1360867  200901BS70002                  1            19   \n",
       "1360868  200901BS70002                  2            11   \n",
       "1360869  200901BS70003                  1             3   \n",
       "...                ...                ...           ...   \n",
       "3004420  2014984138414                  1             9   \n",
       "3004421  2014984138414                  2            19   \n",
       "3004422  2014984138414                  3             9   \n",
       "3004423  2014984139614                  1            11   \n",
       "3004424  2014984139614                  2             9   \n",
       "\n",
       "         Towing_and_Articulation  Vehicle_Manoeuvre  \\\n",
       "1360865                        0                 18   \n",
       "1360866                        0                 18   \n",
       "1360867                        0                 18   \n",
       "1360868                        0                 18   \n",
       "1360869                        0                 18   \n",
       "...                          ...                ...   \n",
       "3004420                        0                  5   \n",
       "3004421                        0                 18   \n",
       "3004422                        0                 18   \n",
       "3004423                        0                  9   \n",
       "3004424                        0                 18   \n",
       "\n",
       "         Vehicle_Location-Restricted_Lane  Junction_Location  \\\n",
       "1360865                                 0                  8   \n",
       "1360866                                 0                  8   \n",
       "1360867                                 3                  8   \n",
       "1360868                                 0                  8   \n",
       "1360869                                 0                  8   \n",
       "...                                   ...                ...   \n",
       "3004420                                 0                  6   \n",
       "3004421                                 0                  1   \n",
       "3004422                                 0                  2   \n",
       "3004423                                 0                  8   \n",
       "3004424                                 0                  1   \n",
       "\n",
       "         Skidding_and_Overturning  Hit_Object_in_Carriageway  \\\n",
       "1360865                         0                          0   \n",
       "1360866                         0                          0   \n",
       "1360867                         0                          0   \n",
       "1360868                         0                         10   \n",
       "1360869                         0                          0   \n",
       "...                           ...                        ...   \n",
       "3004420                         0                          0   \n",
       "3004421                         1                          4   \n",
       "3004422                         1                          4   \n",
       "3004423                         0                          0   \n",
       "3004424                         0                          0   \n",
       "\n",
       "         Vehicle_Leaving_Carriageway  Hit_Object_off_Carriageway  \\\n",
       "1360865                            0                           0   \n",
       "1360866                            0                           0   \n",
       "1360867                            0                           0   \n",
       "1360868                            7                          10   \n",
       "1360869                            0                           0   \n",
       "...                              ...                         ...   \n",
       "3004420                            0                           0   \n",
       "3004421                            7                          11   \n",
       "3004422                            1                           0   \n",
       "3004423                            0                           0   \n",
       "3004424                            0                           0   \n",
       "\n",
       "         1st_Point_of_Impact  Was_Vehicle_Left_Hand_Drive?  \\\n",
       "1360865                    1                             1   \n",
       "1360866                    1                             1   \n",
       "1360867                    1                             1   \n",
       "1360868                    4                             1   \n",
       "1360869                    0                             1   \n",
       "...                      ...                           ...   \n",
       "3004420                    3                             1   \n",
       "3004421                    1                             1   \n",
       "3004422                    3                             1   \n",
       "3004423                    3                             1   \n",
       "3004424                    1                             1   \n",
       "\n",
       "         Journey_Purpose_of_Driver  Sex_of_Driver  Age_of_Driver  \\\n",
       "1360865                         15              1             77   \n",
       "1360866                         15              1             31   \n",
       "1360867                          1              1             40   \n",
       "1360868                          1              1             38   \n",
       "1360869                         15              1             40   \n",
       "...                            ...            ...            ...   \n",
       "3004420                          2              1             27   \n",
       "3004421                          2              1             44   \n",
       "3004422                          6              1             73   \n",
       "3004423                          1              1             40   \n",
       "3004424                          6              1             79   \n",
       "\n",
       "         Age_Band_of_Driver  Engine_Capacity_(CC)  Propulsion_Code  \\\n",
       "1360865                  11                    49                1   \n",
       "1360866                   6                  3824                1   \n",
       "1360867                   7                  1753                2   \n",
       "1360868                   7                  6700                2   \n",
       "1360869                   7                   124                1   \n",
       "...                     ...                   ...              ...   \n",
       "3004420                   6                  1781                1   \n",
       "3004421                   7                  1686                2   \n",
       "3004422                  10                  2143                2   \n",
       "3004423                   7                  4500                2   \n",
       "3004424                  11                  1398                2   \n",
       "\n",
       "         Age_of_Vehicle  Driver_IMD_Decile  Driver_Home_Area_Type  \n",
       "1360865              26                  4                      1  \n",
       "1360866               2                  2                      1  \n",
       "1360867               3                  3                      1  \n",
       "1360868               1                  2                      1  \n",
       "1360869               2                 -1                     -1  \n",
       "...                 ...                ...                    ...  \n",
       "3004420              12                  6                      1  \n",
       "3004421               4                  1                      1  \n",
       "3004422              -1                  8                      3  \n",
       "3004423               4                 -1                      3  \n",
       "3004424              11                 -1                      3  \n",
       "\n",
       "[1641028 rows x 22 columns]"
      ]
     },
     "execution_count": 56,
     "metadata": {},
     "output_type": "execute_result"
    }
   ],
   "source": [
    "dfvehicles"
   ]
  },
  {
   "cell_type": "code",
   "execution_count": 57,
   "metadata": {},
   "outputs": [],
   "source": [
    "dfvehicles=dfvehicles[['Accident_Index','Vehicle_Type','Was_Vehicle_Left_Hand_Drive?','Journey_Purpose_of_Driver','Sex_of_Driver','Age_of_Driver','Age_of_Vehicle']]"
   ]
  },
  {
   "cell_type": "code",
   "execution_count": 58,
   "metadata": {},
   "outputs": [
    {
     "name": "stdout",
     "output_type": "stream",
     "text": [
      "197\n",
      "0.012004670243286525\n"
     ]
    }
   ],
   "source": [
    "value_counts = dfvehicles['Vehicle_Type'].value_counts()\n",
    "count_minus_one = value_counts.get(-1, 0)  \n",
    "total_count = dfvehicles['Vehicle_Type'].count()\n",
    "percentage_minus_one = (count_minus_one / total_count) * 100 if total_count > 0 else 0\n",
    "print(count_minus_one)\n",
    "print(percentage_minus_one)"
   ]
  },
  {
   "cell_type": "code",
   "execution_count": 59,
   "metadata": {},
   "outputs": [],
   "source": [
    "dfvehicles = dfvehicles.drop(dfvehicles[dfvehicles['Vehicle_Type'] == -1].index)"
   ]
  },
  {
   "cell_type": "code",
   "execution_count": 60,
   "metadata": {},
   "outputs": [
    {
     "name": "stdout",
     "output_type": "stream",
     "text": [
      "94\n",
      "0.005728804489920046\n"
     ]
    }
   ],
   "source": [
    "value_counts = dfvehicles['Was_Vehicle_Left_Hand_Drive?'].value_counts()\n",
    "count_minus_one = value_counts.get(-1, 0)  \n",
    "total_count = dfvehicles['Was_Vehicle_Left_Hand_Drive?'].count()\n",
    "percentage_minus_one = (count_minus_one / total_count) * 100 if total_count > 0 else 0\n",
    "print(count_minus_one)\n",
    "print(percentage_minus_one)"
   ]
  },
  {
   "cell_type": "code",
   "execution_count": 61,
   "metadata": {},
   "outputs": [],
   "source": [
    "dfvehicles = dfvehicles.drop(dfvehicles[dfvehicles['Was_Vehicle_Left_Hand_Drive?'] == -1].index)"
   ]
  },
  {
   "cell_type": "code",
   "execution_count": 62,
   "metadata": {},
   "outputs": [
    {
     "name": "stdout",
     "output_type": "stream",
     "text": [
      "33\n",
      "0.0020112912672780583\n"
     ]
    }
   ],
   "source": [
    "value_counts = dfvehicles['Journey_Purpose_of_Driver'].value_counts()\n",
    "count_minus_one = value_counts.get(-1, 0)  \n",
    "total_count = dfvehicles['Journey_Purpose_of_Driver'].count()\n",
    "percentage_minus_one = (count_minus_one / total_count) * 100 if total_count > 0 else 0\n",
    "print(count_minus_one)\n",
    "print(percentage_minus_one)"
   ]
  },
  {
   "cell_type": "code",
   "execution_count": 63,
   "metadata": {},
   "outputs": [],
   "source": [
    "dfvehicles = dfvehicles.drop(dfvehicles[dfvehicles['Journey_Purpose_of_Driver'] == -1].index)"
   ]
  },
  {
   "cell_type": "code",
   "execution_count": 64,
   "metadata": {},
   "outputs": [
    {
     "name": "stdout",
     "output_type": "stream",
     "text": [
      "0\n",
      "0.0\n"
     ]
    }
   ],
   "source": [
    "value_counts = dfvehicles['Sex_of_Driver'].value_counts()\n",
    "count_minus_one = value_counts.get(-1, 0)  \n",
    "total_count = dfvehicles['Sex_of_Driver'].count()\n",
    "percentage_minus_one = (count_minus_one / total_count) * 100 if total_count > 0 else 0\n",
    "print(count_minus_one)\n",
    "print(percentage_minus_one)"
   ]
  },
  {
   "cell_type": "code",
   "execution_count": 65,
   "metadata": {},
   "outputs": [
    {
     "name": "stdout",
     "output_type": "stream",
     "text": [
      "177742\n",
      "10.833276447183648\n"
     ]
    }
   ],
   "source": [
    "value_counts = dfvehicles['Age_of_Driver'].value_counts()\n",
    "count_minus_one = value_counts.get(-1, 0)  \n",
    "total_count = dfvehicles['Age_of_Driver'].count()\n",
    "percentage_minus_one = (count_minus_one / total_count) * 100 if total_count > 0 else 0\n",
    "print(count_minus_one)\n",
    "print(percentage_minus_one)"
   ]
  },
  {
   "cell_type": "code",
   "execution_count": 66,
   "metadata": {},
   "outputs": [],
   "source": [
    "# Step 1: Calculate the median of 'Age_of_Vehicle', excluding -1\n",
    "median_age_of_vehicle = dfvehicles[dfvehicles['Age_of_Driver'] != -1]['Age_of_Driver'].median()\n",
    "\n",
    "# Step 2: Replace -1 with the calculated median\n",
    "dfvehicles['Age_of_Driver'] = dfvehicles['Age_of_Driver'].replace(-1, median_age_of_vehicle)"
   ]
  },
  {
   "cell_type": "code",
   "execution_count": 67,
   "metadata": {},
   "outputs": [
    {
     "name": "stdout",
     "output_type": "stream",
     "text": [
      "440769\n",
      "26.86462640427524\n"
     ]
    }
   ],
   "source": [
    "value_counts = dfvehicles['Age_of_Vehicle'].value_counts()\n",
    "count_minus_one = value_counts.get(-1, 0)  \n",
    "total_count = dfvehicles['Age_of_Vehicle'].count()\n",
    "percentage_minus_one = (count_minus_one / total_count) * 100 if total_count > 0 else 0\n",
    "print(count_minus_one)\n",
    "print(percentage_minus_one)"
   ]
  },
  {
   "cell_type": "code",
   "execution_count": 69,
   "metadata": {},
   "outputs": [],
   "source": [
    "# Step 1: Calculate the median of 'Age_of_Vehicle', excluding -1\n",
    "median_age_of_vehicle = dfvehicles[dfvehicles['Age_of_Vehicle'] != -1]['Age_of_Vehicle'].median()\n",
    "\n",
    "# Step 2: Replace -1 with the calculated median\n",
    "dfvehicles['Age_of_Vehicle'] = dfvehicles['Age_of_Vehicle'].replace(-1, median_age_of_vehicle)"
   ]
  },
  {
   "cell_type": "code",
   "execution_count": 70,
   "metadata": {},
   "outputs": [
    {
     "data": {
      "text/html": [
       "<div>\n",
       "<style scoped>\n",
       "    .dataframe tbody tr th:only-of-type {\n",
       "        vertical-align: middle;\n",
       "    }\n",
       "\n",
       "    .dataframe tbody tr th {\n",
       "        vertical-align: top;\n",
       "    }\n",
       "\n",
       "    .dataframe thead th {\n",
       "        text-align: right;\n",
       "    }\n",
       "</style>\n",
       "<table border=\"1\" class=\"dataframe\">\n",
       "  <thead>\n",
       "    <tr style=\"text-align: right;\">\n",
       "      <th></th>\n",
       "      <th>Accident_Index</th>\n",
       "      <th>Vehicle_Type</th>\n",
       "      <th>Was_Vehicle_Left_Hand_Drive?</th>\n",
       "      <th>Journey_Purpose_of_Driver</th>\n",
       "      <th>Sex_of_Driver</th>\n",
       "      <th>Age_of_Driver</th>\n",
       "      <th>Age_of_Vehicle</th>\n",
       "    </tr>\n",
       "  </thead>\n",
       "  <tbody>\n",
       "    <tr>\n",
       "      <th>1360865</th>\n",
       "      <td>200901BS70001</td>\n",
       "      <td>2</td>\n",
       "      <td>1</td>\n",
       "      <td>15</td>\n",
       "      <td>1</td>\n",
       "      <td>77</td>\n",
       "      <td>26</td>\n",
       "    </tr>\n",
       "    <tr>\n",
       "      <th>1360866</th>\n",
       "      <td>200901BS70001</td>\n",
       "      <td>9</td>\n",
       "      <td>1</td>\n",
       "      <td>15</td>\n",
       "      <td>1</td>\n",
       "      <td>31</td>\n",
       "      <td>2</td>\n",
       "    </tr>\n",
       "    <tr>\n",
       "      <th>1360867</th>\n",
       "      <td>200901BS70002</td>\n",
       "      <td>19</td>\n",
       "      <td>1</td>\n",
       "      <td>1</td>\n",
       "      <td>1</td>\n",
       "      <td>40</td>\n",
       "      <td>3</td>\n",
       "    </tr>\n",
       "    <tr>\n",
       "      <th>1360868</th>\n",
       "      <td>200901BS70002</td>\n",
       "      <td>11</td>\n",
       "      <td>1</td>\n",
       "      <td>1</td>\n",
       "      <td>1</td>\n",
       "      <td>38</td>\n",
       "      <td>1</td>\n",
       "    </tr>\n",
       "    <tr>\n",
       "      <th>1360869</th>\n",
       "      <td>200901BS70003</td>\n",
       "      <td>3</td>\n",
       "      <td>1</td>\n",
       "      <td>15</td>\n",
       "      <td>1</td>\n",
       "      <td>40</td>\n",
       "      <td>2</td>\n",
       "    </tr>\n",
       "    <tr>\n",
       "      <th>...</th>\n",
       "      <td>...</td>\n",
       "      <td>...</td>\n",
       "      <td>...</td>\n",
       "      <td>...</td>\n",
       "      <td>...</td>\n",
       "      <td>...</td>\n",
       "      <td>...</td>\n",
       "    </tr>\n",
       "    <tr>\n",
       "      <th>3004420</th>\n",
       "      <td>2014984138414</td>\n",
       "      <td>9</td>\n",
       "      <td>1</td>\n",
       "      <td>2</td>\n",
       "      <td>1</td>\n",
       "      <td>27</td>\n",
       "      <td>12</td>\n",
       "    </tr>\n",
       "    <tr>\n",
       "      <th>3004421</th>\n",
       "      <td>2014984138414</td>\n",
       "      <td>19</td>\n",
       "      <td>1</td>\n",
       "      <td>2</td>\n",
       "      <td>1</td>\n",
       "      <td>44</td>\n",
       "      <td>4</td>\n",
       "    </tr>\n",
       "    <tr>\n",
       "      <th>3004422</th>\n",
       "      <td>2014984138414</td>\n",
       "      <td>9</td>\n",
       "      <td>1</td>\n",
       "      <td>6</td>\n",
       "      <td>1</td>\n",
       "      <td>73</td>\n",
       "      <td>7</td>\n",
       "    </tr>\n",
       "    <tr>\n",
       "      <th>3004423</th>\n",
       "      <td>2014984139614</td>\n",
       "      <td>11</td>\n",
       "      <td>1</td>\n",
       "      <td>1</td>\n",
       "      <td>1</td>\n",
       "      <td>40</td>\n",
       "      <td>4</td>\n",
       "    </tr>\n",
       "    <tr>\n",
       "      <th>3004424</th>\n",
       "      <td>2014984139614</td>\n",
       "      <td>9</td>\n",
       "      <td>1</td>\n",
       "      <td>6</td>\n",
       "      <td>1</td>\n",
       "      <td>79</td>\n",
       "      <td>11</td>\n",
       "    </tr>\n",
       "  </tbody>\n",
       "</table>\n",
       "<p>1640704 rows × 7 columns</p>\n",
       "</div>"
      ],
      "text/plain": [
       "        Accident_Index  Vehicle_Type  Was_Vehicle_Left_Hand_Drive?  \\\n",
       "1360865  200901BS70001             2                             1   \n",
       "1360866  200901BS70001             9                             1   \n",
       "1360867  200901BS70002            19                             1   \n",
       "1360868  200901BS70002            11                             1   \n",
       "1360869  200901BS70003             3                             1   \n",
       "...                ...           ...                           ...   \n",
       "3004420  2014984138414             9                             1   \n",
       "3004421  2014984138414            19                             1   \n",
       "3004422  2014984138414             9                             1   \n",
       "3004423  2014984139614            11                             1   \n",
       "3004424  2014984139614             9                             1   \n",
       "\n",
       "         Journey_Purpose_of_Driver  Sex_of_Driver  Age_of_Driver  \\\n",
       "1360865                         15              1             77   \n",
       "1360866                         15              1             31   \n",
       "1360867                          1              1             40   \n",
       "1360868                          1              1             38   \n",
       "1360869                         15              1             40   \n",
       "...                            ...            ...            ...   \n",
       "3004420                          2              1             27   \n",
       "3004421                          2              1             44   \n",
       "3004422                          6              1             73   \n",
       "3004423                          1              1             40   \n",
       "3004424                          6              1             79   \n",
       "\n",
       "         Age_of_Vehicle  \n",
       "1360865              26  \n",
       "1360866               2  \n",
       "1360867               3  \n",
       "1360868               1  \n",
       "1360869               2  \n",
       "...                 ...  \n",
       "3004420              12  \n",
       "3004421               4  \n",
       "3004422               7  \n",
       "3004423               4  \n",
       "3004424              11  \n",
       "\n",
       "[1640704 rows x 7 columns]"
      ]
     },
     "execution_count": 70,
     "metadata": {},
     "output_type": "execute_result"
    }
   ],
   "source": [
    "dfvehicles"
   ]
  },
  {
   "cell_type": "code",
   "execution_count": 71,
   "metadata": {},
   "outputs": [
    {
     "data": {
      "text/plain": [
       "(898471,)"
      ]
     },
     "execution_count": 71,
     "metadata": {},
     "output_type": "execute_result"
    }
   ],
   "source": [
    "dfvehicles['Accident_Index'].unique().shape"
   ]
  },
  {
   "cell_type": "code",
   "execution_count": 73,
   "metadata": {},
   "outputs": [],
   "source": [
    "dfvehicles.to_csv('vehicles_cleaned_data.csv',index=False)"
   ]
  },
  {
   "cell_type": "markdown",
   "metadata": {},
   "source": [
    "***\n",
    "---\n",
    "***"
   ]
  },
  {
   "cell_type": "markdown",
   "metadata": {},
   "source": [
    "### Let's Visualize the Datasets for deeper insights"
   ]
  }
 ],
 "metadata": {
  "kernelspec": {
   "display_name": "Python 3",
   "language": "python",
   "name": "python3"
  },
  "language_info": {
   "codemirror_mode": {
    "name": "ipython",
    "version": 3
   },
   "file_extension": ".py",
   "mimetype": "text/x-python",
   "name": "python",
   "nbconvert_exporter": "python",
   "pygments_lexer": "ipython3",
   "version": "3.12.3"
  }
 },
 "nbformat": 4,
 "nbformat_minor": 2
}
