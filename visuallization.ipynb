{
  "cells": [
    {
      "cell_type": "markdown",
      "metadata": {
        "id": "view-in-github",
        "colab_type": "text"
      },
      "source": [
        "<a href=\"https://colab.research.google.com/github/ahmedyasser7/DEPI_GP/blob/main/visuallization.ipynb\" target=\"_parent\"><img src=\"https://colab.research.google.com/assets/colab-badge.svg\" alt=\"Open In Colab\"/></a>"
      ]
    },
    {
      "cell_type": "markdown",
      "metadata": {
        "id": "yKEvKxm-hPiq"
      },
      "source": [
        "# Data Visualization"
      ]
    },
    {
      "cell_type": "code",
      "execution_count": null,
      "metadata": {
        "id": "xOyWluEvhPir"
      },
      "outputs": [],
      "source": [
        "import pandas as pd\n",
        "import numpy as np\n",
        "\n",
        "import datetime\n",
        "import csv\n",
        "import matplotlib.pyplot as plt\n",
        "import seaborn as sns\n",
        "import plotly.express as px\n",
        "\n",
        "import folium\n",
        "from folium.plugins import MarkerCluster, HeatMap\n",
        "import pandas as pd\n",
        "\n",
        "#import sqlite3\n",
        "\n",
        "\n",
        "pd.set_option('display.max_columns', None)\n",
        "pd.set_option('display.max_colwidth', None)"
      ]
    },
    {
      "cell_type": "markdown",
      "metadata": {
        "id": "0kiDzswahPis"
      },
      "source": [
        "**Quick view on Accidents**"
      ]
    },
    {
      "cell_type": "code",
      "execution_count": null,
      "metadata": {
        "id": "ERW0Ym_7hPis"
      },
      "outputs": [],
      "source": [
        "df_accidents = pd.read_csv(\"accident cleaned data.csv\")"
      ]
    },
    {
      "cell_type": "code",
      "execution_count": null,
      "metadata": {
        "id": "A382VklUhPit"
      },
      "outputs": [],
      "source": [
        "df_accidents.head()"
      ]
    },
    {
      "cell_type": "code",
      "execution_count": null,
      "metadata": {
        "id": "eWFupm8_hPit"
      },
      "outputs": [],
      "source": [
        "df_accidents.info()"
      ]
    },
    {
      "cell_type": "code",
      "execution_count": null,
      "metadata": {
        "id": "w7PqGy3OhPit"
      },
      "outputs": [],
      "source": [
        "df_accidents.shape"
      ]
    },
    {
      "cell_type": "code",
      "execution_count": null,
      "metadata": {
        "id": "twFCoPJFhPit"
      },
      "outputs": [],
      "source": [
        "df_accidents.describe(include=\"all\")"
      ]
    },
    {
      "cell_type": "code",
      "execution_count": null,
      "metadata": {
        "id": "lHeDB8f0hPit"
      },
      "outputs": [],
      "source": [
        "df_accidents.isna().sum()"
      ]
    },
    {
      "cell_type": "markdown",
      "metadata": {
        "id": "yrdlAr1IhPit"
      },
      "source": [
        "**Quick view on Vehicles**"
      ]
    },
    {
      "cell_type": "code",
      "execution_count": null,
      "metadata": {
        "id": "NURstfCMhPit"
      },
      "outputs": [],
      "source": [
        "df_vechiles = pd.read_csv(\"Vechicles cleaned data.csv\")"
      ]
    },
    {
      "cell_type": "code",
      "execution_count": null,
      "metadata": {
        "id": "2dIJYFY7hPit"
      },
      "outputs": [],
      "source": [
        "df_vechiles.head()"
      ]
    },
    {
      "cell_type": "code",
      "execution_count": null,
      "metadata": {
        "id": "ahNlToQbhPit"
      },
      "outputs": [],
      "source": [
        "df_vechiles.info()"
      ]
    },
    {
      "cell_type": "code",
      "execution_count": null,
      "metadata": {
        "id": "BO8XcFx4hPiu"
      },
      "outputs": [],
      "source": [
        "df_vechiles.shape"
      ]
    },
    {
      "cell_type": "code",
      "execution_count": null,
      "metadata": {
        "id": "KaAW9voghPiu"
      },
      "outputs": [],
      "source": [
        "df_vechiles.describe(include=\"all\")"
      ]
    },
    {
      "cell_type": "code",
      "execution_count": null,
      "metadata": {
        "id": "rGDRqVphhPiu"
      },
      "outputs": [],
      "source": [
        "df_vechiles.isna().sum()"
      ]
    },
    {
      "cell_type": "markdown",
      "metadata": {
        "id": "krIR6fk6hPiu"
      },
      "source": [
        "**Quick view on Casualties**"
      ]
    },
    {
      "cell_type": "code",
      "execution_count": null,
      "metadata": {
        "id": "x6WN1tg9hPiu"
      },
      "outputs": [],
      "source": [
        "df_casu= pd.read_csv(\"casualties cleaned data.csv\")"
      ]
    },
    {
      "cell_type": "code",
      "execution_count": null,
      "metadata": {
        "id": "dYYlnDkbhPiu"
      },
      "outputs": [],
      "source": [
        "df_casu.head()"
      ]
    },
    {
      "cell_type": "code",
      "execution_count": null,
      "metadata": {
        "id": "7br3SXRfhPiu"
      },
      "outputs": [],
      "source": [
        "df_casu.info()"
      ]
    },
    {
      "cell_type": "code",
      "execution_count": null,
      "metadata": {
        "id": "ZzXSCPxGhPiv"
      },
      "outputs": [],
      "source": [
        "df_casu.shape"
      ]
    },
    {
      "cell_type": "code",
      "execution_count": null,
      "metadata": {
        "id": "qmvfPf3PhPiv"
      },
      "outputs": [],
      "source": [
        "df_casu.describe(include=\"all\")"
      ]
    },
    {
      "cell_type": "code",
      "execution_count": null,
      "metadata": {
        "id": "X0sKTILIhPiv"
      },
      "outputs": [],
      "source": [
        "df_casu.isna().sum()"
      ]
    },
    {
      "cell_type": "code",
      "execution_count": null,
      "metadata": {
        "id": "13ed3o0MhPiv"
      },
      "outputs": [],
      "source": [
        "df = pd.DataFrame(df_accidents)"
      ]
    },
    {
      "cell_type": "markdown",
      "metadata": {
        "id": "IorsjFF3hPiv"
      },
      "source": [
        "**Heatmap**"
      ]
    },
    {
      "cell_type": "code",
      "execution_count": null,
      "metadata": {
        "id": "WjXC6WQHhPiv"
      },
      "outputs": [],
      "source": [
        "dataplot = sns.heatmap(df_casu.corr(numeric_only=True), cmap=\"YlGnBu\", annot=True,fmt=\".1f\",linewidths=2)"
      ]
    },
    {
      "cell_type": "code",
      "execution_count": null,
      "metadata": {
        "id": "Knauc1oVhPiv"
      },
      "outputs": [],
      "source": [
        "# Interactive histogram for Number of Vehicles\n",
        "fig_vehicles = px.histogram(df, x='Number_of_Vehicles', nbins=15, title='Distribution of Number of Vehicles Involved in Accidents',\n",
        "                             labels={'Number_of_Vehicles': 'Number of Vehicles'},\n",
        "                             histnorm='percent')\n",
        "fig_vehicles.show()"
      ]
    },
    {
      "cell_type": "code",
      "execution_count": null,
      "metadata": {
        "id": "1cx8jT5vhPiv"
      },
      "outputs": [],
      "source": [
        "# Interactive histogram for Number of Casualties\n",
        "fig_casualties = px.histogram(df, x='Number_of_Casualties', nbins=15, title='Distribution of Number of Casualties',\n",
        "                               labels={'Number_of_Casualties': 'Number of Casualties'},\n",
        "                               histnorm='percent')\n",
        "fig_casualties.show()"
      ]
    },
    {
      "cell_type": "code",
      "execution_count": null,
      "metadata": {
        "id": "AeDcLGbmhPiw"
      },
      "outputs": [],
      "source": [
        "# Count accidents per day\n",
        "accidents_per_day = df.groupby('Date').size().reset_index(name='Number_of_Accidents')\n",
        "\n",
        "# Interactive line plot for accidents over time\n",
        "fig_time = px.line(accidents_per_day, x='Date', y='Number_of_Accidents', title='Number of Accidents Over Time')\n",
        "fig_time.update_layout(xaxis_title='Date', yaxis_title='Number of Accidents')\n",
        "fig_time.show()"
      ]
    },
    {
      "cell_type": "code",
      "execution_count": null,
      "metadata": {
        "id": "RfRnn4WfhPiw"
      },
      "outputs": [],
      "source": [
        "# Interactive bar plot for accidents by day of the week\n",
        "fig_weekday = px.bar(df, x='Day_of_Week', title='Accidents by Day of the Week',\n",
        "                     labels={'Day_of_Week': 'Day of the Week'},\n",
        "                     color='Number_of_Casualties',\n",
        "                     color_continuous_scale=px.colors.sequential.Viridis)\n",
        "fig_weekday.update_layout(yaxis_title='Number of Accidents', xaxis_title='Day of the Week')\n",
        "fig_weekday.show()"
      ]
    },
    {
      "cell_type": "code",
      "execution_count": null,
      "metadata": {
        "id": "5-a2c2okhPiw"
      },
      "outputs": [],
      "source": [
        "# Convert Time to a numeric value for easier plotting\n",
        "\n",
        "# Interactive histogram for accidents by time of day\n",
        "fig_time_day = px.histogram(df, x='Time', nbins=24, title='Accidents by Time of Day',\n",
        "                             labels={'Time_Hours': 'Time (Hours)'},\n",
        "                             histnorm='percent')\n",
        "fig_time_day.show()"
      ]
    },
    {
      "cell_type": "code",
      "execution_count": null,
      "metadata": {
        "id": "SWth1_wehPiw"
      },
      "outputs": [],
      "source": [
        "# Interactive box plot for casualties by speed limit\n",
        "fig_speed_casualties = px.box(df, x='Speed_limit', y='Number_of_Casualties',\n",
        "                               title='Number of Casualties by Speed Limit',\n",
        "                               labels={'Speed_limit': 'Speed Limit (mph)', 'Number_of_Casualties': 'Number of Casualties'})\n",
        "fig_speed_casualties.show()"
      ]
    },
    {
      "cell_type": "code",
      "execution_count": null,
      "metadata": {
        "id": "UQ0jgFS5hPiw"
      },
      "outputs": [],
      "source": [
        "# Interactive bar plot for accidents by weather conditions\n",
        "fig_weather_conditions = px.histogram(df, x='Weather_Conditions', color='Number_of_Casualties',\n",
        "                                       title='Accidents by Weather Conditions',\n",
        "                                       labels={'Weather_Conditions': 'Weather Conditions'},\n",
        "                                       histnorm='percent')\n",
        "fig_weather_conditions.show()"
      ]
    },
    {
      "cell_type": "code",
      "execution_count": null,
      "metadata": {
        "id": "SKcHK912hPix"
      },
      "outputs": [],
      "source": [
        "plt.figure(figsize=(12, 8))\n",
        "sns.heatmap(df, annot=True, cmap='Purples', fmt='d',\n",
        "            cbar_kws={'label': 'Number of Accidents'})\n",
        "plt.title('Heatmap of Accident Severity by Road Surface Conditions at Junctions')\n",
        "plt.xlabel('Accident Severity')\n",
        "plt.ylabel('Road Surface Conditions')\n",
        "\n",
        "road_surface_conditions = [\n",
        "    'Dry',\n",
        "    'Wet or damp',\n",
        "    'Snow',\n",
        "    'Frost or ice',\n",
        "    'Flood over 3cm. deep'\n",
        "]\n",
        "plt.yticks(ticks=range(len(road_surface_conditions)), labels=road_surface_conditions)\n",
        "\n",
        "plt.xticks(ticks=[0.5, 1.5, 2.5],\n",
        "           labels=['Slight (1)', 'Serious (2)', 'Fatal (3)'],\n",
        "           rotation=0)\n",
        "plt.show()"
      ]
    },
    {
      "cell_type": "code",
      "execution_count": null,
      "metadata": {
        "id": "PwiNK3cHhPix"
      },
      "outputs": [],
      "source": [
        "# Plotting casualty severity distribution\n",
        "fig_severity = px.histogram(df, x='Casualty_Severity', title='Distribution of Casualty Severity')\n",
        "fig_severity.show()"
      ]
    },
    {
      "cell_type": "code",
      "execution_count": null,
      "metadata": {
        "id": "NmUexL01hPix"
      },
      "outputs": [],
      "source": [
        "# Plotting age distribution of casualties\n",
        "fig_age = px.histogram(df, x='Age_of_Casualty', title='Age Distribution of Casualties')\n",
        "fig_age.show()"
      ]
    },
    {
      "cell_type": "code",
      "execution_count": null,
      "metadata": {
        "id": "rdaEqHv9hPix"
      },
      "outputs": [],
      "source": [
        "# Plotting casualty type distribution\n",
        "fig_type = px.histogram(df, x='Casualty_Type', title='Distribution of Casualty Types')\n",
        "fig_type.show()"
      ]
    },
    {
      "cell_type": "code",
      "execution_count": null,
      "metadata": {
        "id": "gNGprDqKhPix"
      },
      "outputs": [],
      "source": [
        "# Sample DataFrame creation (replace this with your actual DataFrame)\n",
        "\n",
        "\n",
        "df = pd.DataFrame(df_accidents)\n",
        "\n",
        "# Create a folium map centered on the average location\n",
        "m = folium.Map(location=[df['Latitude'].mean(), df['Longitude'].mean()], zoom_start=12)\n",
        "\n",
        "# Define severity levels and corresponding colors\n",
        "severity_levels = {\n",
        "    3: {'label': 'Low Severity', 'color': 'green', 'icon': 'check'},\n",
        "    2: {'label': 'Medium Severity', 'color': 'orange', 'icon': 'exclamation-sign'},\n",
        "    1: {'label': 'High Severity', 'color': 'red', 'icon': 'remove'}\n",
        "}\n",
        "\n",
        "# Create a FeatureGroup for each severity level\n",
        "for severity, info in severity_levels.items():\n",
        "    # Create a FeatureGroup with a name for the layer control\n",
        "    fg = folium.FeatureGroup(name=info['label'])\n",
        "\n",
        "    # Optionally, add a MarkerCluster to each FeatureGroup\n",
        "    marker_cluster = MarkerCluster().add_to(fg)\n",
        "\n",
        "    # Filter data for the current severity level\n",
        "    severity_data = df[df['Accident_Severity'] == severity]\n",
        "\n",
        "    # Add markers to the cluster within the FeatureGroup\n",
        "    for _, row in severity_data.iterrows():\n",
        "        folium.Marker(\n",
        "            location=[row['Latitude'], row['Longitude']],\n",
        "            popup=folium.Popup(html=(\n",
        "                f\"<b>Accident Index:</b> {row['Accident_Index']}<br>\"\n",
        "                f\"<b>Date:</b> {row['Date']}<br>\"\n",
        "                f\"<b>Time:</b> {row['Time']}<br>\"\n",
        "                f\"<b>Number of Vehicles:</b> {row['Number_of_Vehicles']}<br>\"\n",
        "                f\"<b>Number of Casualties:</b> {row['Number_of_Casualties']}<br>\"\n",
        "                f\"<b>Speed Limit:</b> {row['Speed_limit']} mph\"\n",
        "            ), max_width=300),\n",
        "            icon=folium.Icon(color=info['color'], icon=info['icon'])\n",
        "        ).add_to(marker_cluster)\n",
        "\n",
        "    # Add the FeatureGroup to the map\n",
        "    m.add_child(fg)\n",
        "\n",
        "# Add a HeatMap layer to visualize density of accidents\n",
        "heat_data = [[row['Latitude'], row['Longitude']] for index, row in df.iterrows()]\n",
        "HeatMap(heat_data, radius=15).add_to(m)\n",
        "\n",
        "# Add a LayerControl to toggle between severity layers\n",
        "folium.LayerControl().add_to(m)\n",
        "\n",
        "# Save the map to an HTML file\n",
        "# m.save('accidents_map_with_severity_layers.html')\n",
        "\n",
        "# To display the map in a Jupyter Notebook, simply use:\n",
        "m"
      ]
    },
    {
      "cell_type": "code",
      "execution_count": null,
      "metadata": {
        "id": "QUT3AbVVhPix"
      },
      "outputs": [],
      "source": [
        "# Sample DataFrame creation (replace this with your actual DataFrame)\n",
        "# df = pd.DataFrame(df_accidents)\n",
        "\n",
        "# Sample structure of the DataFrame\n",
        "\n",
        "\n",
        "df = pd.DataFrame(df_accidents)\n",
        "\n",
        "# Ensure the column is of string type\n",
        "df['Local_Authority_(District)'] = df['Local_Authority_(District)'].astype(str)\n",
        "\n",
        "# Step 1: Bin the Accident Severity\n",
        "severity_labels = {3: 'Low', 2: 'Medium', 1: 'High'}\n",
        "df['Accident_Severity_Label'] = df['Accident_Severity'].map(severity_labels)\n",
        "\n",
        "# Step 2: Function to filter the DataFrame based on user input\n",
        "def filter_df(search_term):\n",
        "    return df[df['Local_Authority_(District)'].str.contains(search_term, case=False, na=False)]\n",
        "\n",
        "# Example: Getting user input\n",
        "search_input = input(\"Enter a district name to search: \")\n",
        "filtered_df = filter_df(search_input)\n",
        "\n",
        "# Step 3: Create the Treemap\n",
        "if not filtered_df.empty:\n",
        "    fig = px.treemap(\n",
        "        filtered_df,\n",
        "        path=['Local_Authority_(District)', 'Local_Authority_(Highway)', 'Accident_Severity_Label'],\n",
        "        values='Number_of_Casualties',\n",
        "        color='Accident_Severity',\n",
        "        color_continuous_scale='RdYlGn',\n",
        "        title=f'Treemap of Accidents by Local Authority District {search_input}',\n",
        "        hover_data={'Number_of_Vehicles': True, 'Number_of_Casualties': True}\n",
        "    )\n",
        "    fig.show()\n",
        "else:\n",
        "    print(f\"No results found for '{search_input}'. Please try another district name.\")"
      ]
    },
    {
      "cell_type": "code",
      "execution_count": null,
      "metadata": {
        "id": "UBxehltahPiy"
      },
      "outputs": [],
      "source": [
        "df = pd.DataFrame(df_accidents)\n",
        "\n",
        "# Step 1: Map the numeric area types to labels\n",
        "area_labels = {1: 'Urban', 2: 'Rural'}\n",
        "df['Area_Label'] = df['Urban_or_Rural_Area'].map(area_labels)\n",
        "\n",
        "# Step 2: Filter out the \"Unallocated\" areas (Urban_or_Rural_Area = 3)\n",
        "df_filtered = df[df['Urban_or_Rural_Area'] != 3]\n",
        "\n",
        "# Step 3: Count the number of accidents in Urban and Rural areas\n",
        "urban_rural_counts = df_filtered['Area_Label'].value_counts()\n",
        "\n",
        "# Step 4: Create the bar plot\n",
        "plt.figure(figsize=(8, 6))\n",
        "urban_rural_counts.plot(kind='bar', color=['skyblue', 'lightgreen'])\n",
        "\n",
        "# Step 5: Add labels and title\n",
        "plt.title('Accidents in Urban vs Rural Areas (Excluding Unallocated)', fontsize=16)\n",
        "plt.xlabel('Area Type', fontsize=14)\n",
        "plt.ylabel('Number of Accidents', fontsize=14)\n",
        "plt.xticks(rotation=0)  # Keep labels horizontal for better readability\n",
        "\n",
        "# Step 6: Show the plot\n",
        "plt.tight_layout()\n",
        "plt.show()"
      ]
    },
    {
      "cell_type": "markdown",
      "metadata": {
        "id": "aGsULlrvhPiy"
      },
      "source": [
        "## Heatmap of Accident Locations Based on Severity\n",
        "\n",
        "#### Columns Used:\n",
        "- Accident Severity\n",
        "- Location Easting OSGR, Location Northing OSGR\n",
        "- Number of Vehicles\n",
        "- Road Type"
      ]
    },
    {
      "cell_type": "code",
      "execution_count": null,
      "metadata": {
        "id": "whF3HaMnhPiy"
      },
      "outputs": [],
      "source": [
        "Heatmap_df = df_accidents[['Accident_Severity','Number_of_Casualties','Local_Authority_(District)','Local_Authority_(Highway)','Number_of_Vehicles','Longitude','Latitude']]\n",
        "#Heatmap_df.to_csv('Heatmap.csv', index=False)"
      ]
    },
    {
      "cell_type": "code",
      "execution_count": null,
      "metadata": {
        "id": "jOPIQBkMhPiy"
      },
      "outputs": [],
      "source": [
        "fig = px.bar(df_accidents,\n",
        "             x='Local_Authority_(District)',\n",
        "             y='Number_of_Casualties',\n",
        "             color='Accident_Severity',\n",
        "             barmode='group',\n",
        "             facet_col='Local_Authority_(Highway)',\n",
        "             labels={'Accident_Severity': 'Severity Level'},\n",
        "             title='Accidents by Severity, Highway, and Local Authority')\n",
        "\n",
        "# Show the figure\n",
        "fig.show()"
      ]
    },
    {
      "cell_type": "code",
      "execution_count": null,
      "metadata": {
        "id": "RVjCXTzEhPiy"
      },
      "outputs": [],
      "source": [
        "# Group the data by Accident_Severity, Local_Authority_(District), and Local_Authority_(Highway)\n",
        "grouped_df = Hdf.groupby(['Accident_Severity', 'Local_Authority_(District)', 'Local_Authority_(Highway)']).agg({\n",
        "    'Number_of_Casualties': 'sum',\n",
        "    'Number_of_Vehicles': 'sum'\n",
        "}).reset_index()\n",
        "\n",
        "# Rename columns for clarity\n",
        "grouped_df.columns = ['Accident_Severity', 'District', 'Highway', 'Total_Casualties', 'Total_Vehicles']\n",
        "\n",
        "# Display the grouped data\n",
        "print(grouped_df)\n"
      ]
    },
    {
      "cell_type": "code",
      "execution_count": null,
      "metadata": {
        "id": "H3Btro2PhPiz"
      },
      "outputs": [],
      "source": [
        "fig = px.bar(df_accidents,\n",
        "             x='Local_Authority_(District)',\n",
        "             y='Number_of_Casualties',\n",
        "             color='Accident_Severity',\n",
        "             labels={'Accident_Severity': 'Severity Level'},\n",
        "             title='Accidents by Severity and Local Authority')\n",
        "\n",
        "# Show the figure\n",
        "fig.show()"
      ]
    },
    {
      "cell_type": "code",
      "execution_count": null,
      "metadata": {
        "id": "bxf_EeXShPiz"
      },
      "outputs": [],
      "source": [
        "df = px.data.medals_wide(indexed=True)\n",
        "fig = px.imshow(df)\n",
        "fig = px.imshow(df, text_auto=True)\n",
        "fig.show()"
      ]
    },
    {
      "cell_type": "code",
      "execution_count": null,
      "metadata": {
        "id": "a4SKA8S7hPiz"
      },
      "outputs": [],
      "source": [
        "import pandas as pd\n",
        "import seaborn as sns\n",
        "import matplotlib.pyplot as plt\n",
        "\n",
        "# Sample 100 rows from the cleaned DataFrame\n",
        "Heatmap_df = Heatmap_df.sample(n=100, random_state=1)\n",
        "\n",
        "# Sample severity mapping\n",
        "severity_map = {\n",
        "    1: 'Fatal',\n",
        "    2: 'Serious',\n",
        "    3: 'Slight'\n",
        "}\n",
        "\n",
        "# Adding Severity_Label to the DataFrame\n",
        "Heatmap_df['Severity_Label'] = Heatmap_df['Accident_Severity'].map(severity_map)\n",
        "\n",
        "# Step 3: Create separate heatmaps for vehicles and casualties for each severity level\n",
        "for severity in severity_map.values():\n",
        "    # Filter data for each severity\n",
        "    severity_data = Heatmap_df[Heatmap_df['Severity_Label'] == severity]\n",
        "\n",
        "    # Create a pivot table for the number of vehicles\n",
        "    vehicles_heatmap_data = severity_data.pivot_table(\n",
        "        index='Local_Authority_(District)',\n",
        "        columns='Local_Authority_(Highway)',\n",
        "        values='Number_of_Vehicles',\n",
        "        aggfunc='sum',\n",
        "        fill_value=0\n",
        "    )\n",
        "\n",
        "    # Create a pivot table for the number of casualties\n",
        "    casualties_heatmap_data = severity_data.pivot_table(\n",
        "        index='Local_Authority_(District)',\n",
        "        columns='Local_Authority_(Highway)',\n",
        "        values='Number_of_Casualties',\n",
        "        aggfunc='sum',\n",
        "        fill_value=0\n",
        "    )\n",
        "\n",
        "    # Plotting for Number of Vehicles\n",
        "    plt.figure(figsize=(15, 12))  # Adjusted figure size for better visualization\n",
        "    sns.heatmap(vehicles_heatmap_data,\n",
        "                cmap='YlGnBu',\n",
        "                annot=True,\n",
        "                fmt='0.1f',\n",
        "                linecolor='black',\n",
        "                linewidths=1,\n",
        "                annot_kws={\"size\": 20},  # Adjusted annotation font size\n",
        "                cbar=True)\n",
        "    plt.title(f'Heatmap of Vehicles Involved in {severity} Accidents', fontsize=24)\n",
        "    plt.xlabel('Location Easting OSGR', fontsize=20)\n",
        "    plt.ylabel('Location Northing OSGR', fontsize=20)\n",
        "    plt.xticks(fontsize=16)  # X-axis tick labels font size\n",
        "    plt.yticks(fontsize=16)  # Y-axis tick labels font size\n",
        "    plt.show()  # Display the heatmap\n",
        "\n",
        "    # Plotting for Number of Casualties\n",
        "    plt.figure(figsize=(15, 12))  # Keep the size reasonable\n",
        "    sns.heatmap(casualties_heatmap_data,\n",
        "                cmap='YlOrRd',\n",
        "                annot=True,\n",
        "                fmt='0.1f',\n",
        "                linecolor='black',\n",
        "                linewidths=1,\n",
        "                annot_kws={\"size\": 20},  # Adjusted annotation font size\n",
        "                cbar=True)\n",
        "    plt.title(f'Heatmap of Casualties in {severity} Accidents', fontsize=24)\n",
        "    plt.xlabel('Location Easting OSGR', fontsize=20)\n",
        "    plt.ylabel('Location Northing OSGR', fontsize=20)\n",
        "    plt.xticks(fontsize=16)  # X-axis tick labels font size\n",
        "    plt.yticks(fontsize=16)  # Y-axis tick labels font size\n",
        "    plt.show()  # Display the heatmap"
      ]
    },
    {
      "cell_type": "markdown",
      "metadata": {
        "id": "DongIzTvhPiz"
      },
      "source": [
        "## Time-Series of Accidents by Hour and Day of the Week\n",
        "\n",
        "#### Columns Used:\n",
        "- Day of Week\n",
        "- Time (HH)\n",
        "- Number of Accidents"
      ]
    },
    {
      "cell_type": "markdown",
      "metadata": {
        "id": "3eezBa4uhPiz"
      },
      "source": [
        "## Distribution of Accident Severity by Weather Conditions\n",
        "\n",
        "### Columns Used:\n",
        "- Accident Severity\n",
        "- Weather Conditions\n",
        "- Road Surface Conditions\n",
        "- Speed Limit"
      ]
    },
    {
      "cell_type": "markdown",
      "metadata": {
        "id": "xsxEk6nEhPiz"
      },
      "source": [
        "## Pie Chart of Casualty Types Based on Vehicle Involvement\n",
        "\n",
        "### Columns Used:\n",
        "- Casualty Type\n",
        "- Vehicle Type\n",
        "- Number of Vehicles"
      ]
    },
    {
      "cell_type": "markdown",
      "metadata": {
        "id": "0f1G4KWFhPiz"
      },
      "source": [
        "## Accident Hotspot Map Based on Geo-Coordinates and Number of Casualties\n",
        "\n",
        "### Columns Used:\n",
        "- Location Easting OSGR, Location Northing OSGR\n",
        "- Number of Casualties\n",
        "- Accident Severity\n"
      ]
    },
    {
      "cell_type": "markdown",
      "metadata": {
        "id": "qevuxoyFhPiz"
      },
      "source": [
        "## Bar Chart of Casualty Severity by Age Group\n",
        "\n",
        "### Columns Used:\n",
        "- Casualty Severity\n",
        "- Age Band of Casualty\n",
        "- Casualty Class\n",
        "- Casualty Type"
      ]
    },
    {
      "cell_type": "markdown",
      "metadata": {
        "id": "Hls2Tc-ihPiz"
      },
      "source": [
        "## Correlation Matrix of Accident Factors and Casualty Outcome\n",
        "\n",
        "### Columns Used:\n",
        "- Number of Vehicles\n",
        "- Number of Casualties\n",
        "- Accident Severity\n",
        "- Casualty Severity\n",
        "- Speed Limit\n",
        "- Weather Conditions"
      ]
    },
    {
      "cell_type": "markdown",
      "metadata": {
        "id": "fLJWkLQehPi0"
      },
      "source": [
        "## Scatter Plot of Accidents by Speed Limit and Severity\n",
        "\n",
        "### Columns Used:\n",
        "- Accident Severity\n",
        "- Speed Limit\n",
        "- Road Type"
      ]
    },
    {
      "cell_type": "markdown",
      "metadata": {
        "id": "jVz5HTSDhPi0"
      },
      "source": [
        "## Comparison of Accident Frequency Between Rural and Urban Areas\n",
        "\n",
        "### Columns Used:\n",
        "- Urban or Rural Area\n",
        "- Accident Severity\n",
        "- Road Type"
      ]
    },
    {
      "cell_type": "markdown",
      "metadata": {
        "id": "GSIL4awahPi0"
      },
      "source": [
        "## Impact of Junction Control on Accident Severity\n",
        "\n",
        "### Columns Used:\n",
        "- Junction Control\n",
        "- Accident Severity\n",
        "- Vehicle Type\n",
        "- Road Surface Conditions"
      ]
    }
  ],
  "metadata": {
    "kernelspec": {
      "display_name": "Python 3",
      "language": "python",
      "name": "python3"
    },
    "language_info": {
      "codemirror_mode": {
        "name": "ipython",
        "version": 3
      },
      "file_extension": ".py",
      "mimetype": "text/x-python",
      "name": "python",
      "nbconvert_exporter": "python",
      "pygments_lexer": "ipython3",
      "version": "3.12.4"
    },
    "colab": {
      "provenance": [],
      "include_colab_link": true
    }
  },
  "nbformat": 4,
  "nbformat_minor": 0
}